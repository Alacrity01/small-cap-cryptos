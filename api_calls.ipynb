{
 "cells": [
  {
   "cell_type": "code",
   "execution_count": 1,
   "id": "1e457d8d",
   "metadata": {
    "execution": {
     "iopub.execute_input": "2022-04-10T23:48:43.854254Z",
     "iopub.status.busy": "2022-04-10T23:48:43.854055Z",
     "iopub.status.idle": "2022-04-10T23:48:43.858377Z",
     "shell.execute_reply": "2022-04-10T23:48:43.857210Z",
     "shell.execute_reply.started": "2022-04-10T23:48:43.854206Z"
    }
   },
   "outputs": [],
   "source": [
    "# !conda install -c anaconda seaborn -y"
   ]
  },
  {
   "cell_type": "code",
   "execution_count": 2,
   "id": "ded6361f",
   "metadata": {
    "execution": {
     "iopub.execute_input": "2022-04-10T23:48:43.859840Z",
     "iopub.status.busy": "2022-04-10T23:48:43.859461Z",
     "iopub.status.idle": "2022-04-10T23:48:43.865208Z",
     "shell.execute_reply": "2022-04-10T23:48:43.864042Z",
     "shell.execute_reply.started": "2022-04-10T23:48:43.859814Z"
    },
    "tags": []
   },
   "outputs": [],
   "source": [
    "# conda activate smallcapcryptosenv"
   ]
  },
  {
   "cell_type": "code",
   "execution_count": 3,
   "id": "3f1c5f4b",
   "metadata": {
    "execution": {
     "iopub.execute_input": "2022-04-10T23:48:43.869571Z",
     "iopub.status.busy": "2022-04-10T23:48:43.869257Z",
     "iopub.status.idle": "2022-04-10T23:48:43.872906Z",
     "shell.execute_reply": "2022-04-10T23:48:43.872074Z",
     "shell.execute_reply.started": "2022-04-10T23:48:43.869547Z"
    }
   },
   "outputs": [],
   "source": [
    "# !conda create --clone pyvizenv --name smallcapcryptosenv -y"
   ]
  },
  {
   "cell_type": "code",
   "execution_count": 4,
   "id": "c8d74d5d",
   "metadata": {
    "execution": {
     "iopub.execute_input": "2022-04-10T23:48:43.874081Z",
     "iopub.status.busy": "2022-04-10T23:48:43.873878Z",
     "iopub.status.idle": "2022-04-10T23:48:43.876904Z",
     "shell.execute_reply": "2022-04-10T23:48:43.876211Z",
     "shell.execute_reply.started": "2022-04-10T23:48:43.874059Z"
    }
   },
   "outputs": [],
   "source": [
    "# !pip install pycoingecko"
   ]
  },
  {
   "cell_type": "code",
   "execution_count": 5,
   "id": "8102b744",
   "metadata": {
    "execution": {
     "iopub.execute_input": "2022-04-10T23:48:43.877781Z",
     "iopub.status.busy": "2022-04-10T23:48:43.877598Z",
     "iopub.status.idle": "2022-04-10T23:48:45.095987Z",
     "shell.execute_reply": "2022-04-10T23:48:45.095544Z",
     "shell.execute_reply.started": "2022-04-10T23:48:43.877759Z"
    },
    "tags": []
   },
   "outputs": [],
   "source": [
    "# Initial Imports\n",
    "import pandas as pd\n",
    "import os\n",
    "from pathlib import Path\n",
    "\n",
    "import requests\n",
    "from pycoingecko import CoinGeckoAPI\n",
    "cg = CoinGeckoAPI()"
   ]
  },
  {
   "cell_type": "code",
   "execution_count": 6,
   "id": "180234b9",
   "metadata": {
    "execution": {
     "iopub.execute_input": "2022-04-10T23:48:45.096813Z",
     "iopub.status.busy": "2022-04-10T23:48:45.096695Z",
     "iopub.status.idle": "2022-04-10T23:48:45.100672Z",
     "shell.execute_reply": "2022-04-10T23:48:45.099865Z",
     "shell.execute_reply.started": "2022-04-10T23:48:45.096798Z"
    }
   },
   "outputs": [],
   "source": [
    "def get_date_range(delta=365):\n",
    "\tdatetime_2 = pd.Timestamp(\"today\").normalize() # current date as timestamp\n",
    "\tdatetime_1 = datetime_2 - pd.to_timedelta(delta, unit=\"Days\")\n",
    "\t\n",
    "\tdates = {\n",
    "\t\t\"date_1\": [datetime_1,datetime_1.timestamp()],\n",
    "\t\t\"date_2\": [datetime_2,datetime_2.timestamp()]}\n",
    "\treturn dates"
   ]
  },
  {
   "cell_type": "code",
   "execution_count": 7,
   "id": "39909337",
   "metadata": {
    "execution": {
     "iopub.execute_input": "2022-04-10T23:48:45.102170Z",
     "iopub.status.busy": "2022-04-10T23:48:45.101761Z",
     "iopub.status.idle": "2022-04-10T23:48:45.105732Z",
     "shell.execute_reply": "2022-04-10T23:48:45.105156Z",
     "shell.execute_reply.started": "2022-04-10T23:48:45.102152Z"
    }
   },
   "outputs": [],
   "source": [
    "def ticker_url(token_id, date_range):\n",
    "\tmy_url = f\"https://api.coingecko.com/api/v3/coins/{token_id}/market_chart/range?vs_currency=usd&from={date_range['date_1'][1]}&to={date_range['date_2'][1]}\"\n",
    "\treturn my_url"
   ]
  },
  {
   "cell_type": "code",
   "execution_count": 8,
   "id": "0dddc0cc",
   "metadata": {
    "execution": {
     "iopub.execute_input": "2022-04-10T23:48:45.107101Z",
     "iopub.status.busy": "2022-04-10T23:48:45.106657Z",
     "iopub.status.idle": "2022-04-10T23:48:45.110205Z",
     "shell.execute_reply": "2022-04-10T23:48:45.109470Z",
     "shell.execute_reply.started": "2022-04-10T23:48:45.107080Z"
    }
   },
   "outputs": [],
   "source": [
    "def get_json_from_api(url):\n",
    "\treturn requests.get(url).json()"
   ]
  },
  {
   "cell_type": "code",
   "execution_count": 9,
   "id": "27c9bf7d",
   "metadata": {
    "execution": {
     "iopub.execute_input": "2022-04-10T23:48:45.111014Z",
     "iopub.status.busy": "2022-04-10T23:48:45.110896Z",
     "iopub.status.idle": "2022-04-10T23:48:45.117104Z",
     "shell.execute_reply": "2022-04-10T23:48:45.116637Z",
     "shell.execute_reply.started": "2022-04-10T23:48:45.110999Z"
    }
   },
   "outputs": [],
   "source": [
    "crypto_list = pd.read_csv(Path(\"./crypto_list.csv\"))\n",
    "crypto_list.drop(crypto_list.columns[-1],axis=1,inplace=True)"
   ]
  },
  {
   "cell_type": "code",
   "execution_count": 10,
   "id": "f91e89af",
   "metadata": {
    "execution": {
     "iopub.execute_input": "2022-04-10T23:48:45.118290Z",
     "iopub.status.busy": "2022-04-10T23:48:45.117977Z",
     "iopub.status.idle": "2022-04-10T23:48:45.121386Z",
     "shell.execute_reply": "2022-04-10T23:48:45.120719Z",
     "shell.execute_reply.started": "2022-04-10T23:48:45.118265Z"
    }
   },
   "outputs": [],
   "source": [
    "# btc_eth = pd.read_csv(Path(\"Resources/btc_eth.csv\"))\n",
    "# btc_eth.drop(btc_eth.columns[-1],axis=1,inplace=True)"
   ]
  },
  {
   "cell_type": "code",
   "execution_count": 11,
   "id": "d6053508",
   "metadata": {
    "execution": {
     "iopub.execute_input": "2022-04-10T23:48:45.122170Z",
     "iopub.status.busy": "2022-04-10T23:48:45.122032Z",
     "iopub.status.idle": "2022-04-10T23:48:45.124693Z",
     "shell.execute_reply": "2022-04-10T23:48:45.124060Z",
     "shell.execute_reply.started": "2022-04-10T23:48:45.122152Z"
    }
   },
   "outputs": [],
   "source": [
    "# btc_eth"
   ]
  },
  {
   "cell_type": "code",
   "execution_count": 12,
   "id": "a5a98735",
   "metadata": {
    "execution": {
     "iopub.execute_input": "2022-04-10T23:48:45.128617Z",
     "iopub.status.busy": "2022-04-10T23:48:45.128405Z",
     "iopub.status.idle": "2022-04-10T23:48:45.142576Z",
     "shell.execute_reply": "2022-04-10T23:48:45.141951Z",
     "shell.execute_reply.started": "2022-04-10T23:48:45.128597Z"
    }
   },
   "outputs": [
    {
     "data": {
      "text/html": [
       "<div>\n",
       "<style scoped>\n",
       "    .dataframe tbody tr th:only-of-type {\n",
       "        vertical-align: middle;\n",
       "    }\n",
       "\n",
       "    .dataframe tbody tr th {\n",
       "        vertical-align: top;\n",
       "    }\n",
       "\n",
       "    .dataframe thead th {\n",
       "        text-align: right;\n",
       "    }\n",
       "</style>\n",
       "<table border=\"1\" class=\"dataframe\">\n",
       "  <thead>\n",
       "    <tr style=\"text-align: right;\">\n",
       "      <th></th>\n",
       "      <th>ticker</th>\n",
       "      <th>crypto_name</th>\n",
       "      <th>token_id</th>\n",
       "    </tr>\n",
       "  </thead>\n",
       "  <tbody>\n",
       "    <tr>\n",
       "      <th>0</th>\n",
       "      <td>BTC</td>\n",
       "      <td>BITCOIN</td>\n",
       "      <td>bitcoin</td>\n",
       "    </tr>\n",
       "    <tr>\n",
       "      <th>1</th>\n",
       "      <td>ETH</td>\n",
       "      <td>ETHEREUM</td>\n",
       "      <td>ethereum</td>\n",
       "    </tr>\n",
       "    <tr>\n",
       "      <th>2</th>\n",
       "      <td>GFI</td>\n",
       "      <td>GOLDFINCH</td>\n",
       "      <td>goldfinch</td>\n",
       "    </tr>\n",
       "    <tr>\n",
       "      <th>3</th>\n",
       "      <td>PLU</td>\n",
       "      <td>PLUTON</td>\n",
       "      <td>pluton</td>\n",
       "    </tr>\n",
       "    <tr>\n",
       "      <th>4</th>\n",
       "      <td>UPI</td>\n",
       "      <td>PAWTOCOL</td>\n",
       "      <td>pawtocol</td>\n",
       "    </tr>\n",
       "  </tbody>\n",
       "</table>\n",
       "</div>"
      ],
      "text/plain": [
       "  ticker crypto_name   token_id\n",
       "0    BTC     BITCOIN    bitcoin\n",
       "1    ETH    ETHEREUM   ethereum\n",
       "2    GFI   GOLDFINCH  goldfinch\n",
       "3    PLU      PLUTON     pluton\n",
       "4    UPI    PAWTOCOL   pawtocol"
      ]
     },
     "execution_count": 12,
     "metadata": {},
     "output_type": "execute_result"
    }
   ],
   "source": [
    "crypto_list.head()"
   ]
  },
  {
   "cell_type": "code",
   "execution_count": 13,
   "id": "dba70607",
   "metadata": {
    "execution": {
     "iopub.execute_input": "2022-04-10T23:48:45.144035Z",
     "iopub.status.busy": "2022-04-10T23:48:45.143557Z",
     "iopub.status.idle": "2022-04-10T23:48:45.152918Z",
     "shell.execute_reply": "2022-04-10T23:48:45.152172Z",
     "shell.execute_reply.started": "2022-04-10T23:48:45.143990Z"
    }
   },
   "outputs": [
    {
     "data": {
      "text/html": [
       "<div>\n",
       "<style scoped>\n",
       "    .dataframe tbody tr th:only-of-type {\n",
       "        vertical-align: middle;\n",
       "    }\n",
       "\n",
       "    .dataframe tbody tr th {\n",
       "        vertical-align: top;\n",
       "    }\n",
       "\n",
       "    .dataframe thead th {\n",
       "        text-align: right;\n",
       "    }\n",
       "</style>\n",
       "<table border=\"1\" class=\"dataframe\">\n",
       "  <thead>\n",
       "    <tr style=\"text-align: right;\">\n",
       "      <th></th>\n",
       "      <th>ticker</th>\n",
       "      <th>crypto_name</th>\n",
       "      <th>token_id</th>\n",
       "    </tr>\n",
       "  </thead>\n",
       "  <tbody>\n",
       "    <tr>\n",
       "      <th>40</th>\n",
       "      <td>LQTY</td>\n",
       "      <td>LIQUITY</td>\n",
       "      <td>liquity</td>\n",
       "    </tr>\n",
       "    <tr>\n",
       "      <th>41</th>\n",
       "      <td>BOND</td>\n",
       "      <td>BARNBRIDGE</td>\n",
       "      <td>barnbridge</td>\n",
       "    </tr>\n",
       "    <tr>\n",
       "      <th>42</th>\n",
       "      <td>TRB</td>\n",
       "      <td>TELLOR</td>\n",
       "      <td>tellor</td>\n",
       "    </tr>\n",
       "    <tr>\n",
       "      <th>43</th>\n",
       "      <td>ASM</td>\n",
       "      <td>ASSEMBLE PROTOCOL</td>\n",
       "      <td>assemble-protocol</td>\n",
       "    </tr>\n",
       "    <tr>\n",
       "      <th>44</th>\n",
       "      <td>NCT</td>\n",
       "      <td>POLYSWARM</td>\n",
       "      <td>polyswarm</td>\n",
       "    </tr>\n",
       "  </tbody>\n",
       "</table>\n",
       "</div>"
      ],
      "text/plain": [
       "   ticker        crypto_name           token_id\n",
       "40   LQTY            LIQUITY            liquity\n",
       "41   BOND         BARNBRIDGE         barnbridge\n",
       "42    TRB             TELLOR             tellor\n",
       "43    ASM  ASSEMBLE PROTOCOL  assemble-protocol\n",
       "44    NCT          POLYSWARM          polyswarm"
      ]
     },
     "execution_count": 13,
     "metadata": {},
     "output_type": "execute_result"
    }
   ],
   "source": [
    "crypto_list.tail()"
   ]
  },
  {
   "cell_type": "markdown",
   "id": "f2a4b04e",
   "metadata": {},
   "source": [
    "### Coingecko API get request"
   ]
  },
  {
   "cell_type": "code",
   "execution_count": 14,
   "id": "4a98e768",
   "metadata": {
    "execution": {
     "iopub.execute_input": "2022-04-10T23:48:45.154348Z",
     "iopub.status.busy": "2022-04-10T23:48:45.153915Z",
     "iopub.status.idle": "2022-04-10T23:48:45.157786Z",
     "shell.execute_reply": "2022-04-10T23:48:45.157073Z",
     "shell.execute_reply.started": "2022-04-10T23:48:45.154311Z"
    }
   },
   "outputs": [],
   "source": [
    "my_dates = get_date_range() # this should only run once--keep out of loop\n",
    "\n",
    "# my_dates['date_1'][0] # output (datetime):  Timestamp('2021-04-05 00:00:00')\n",
    "# my_dates['date_1'][1] # output (unix time): 1617580800.0"
   ]
  },
  {
   "cell_type": "code",
   "execution_count": 15,
   "id": "ad69ea25",
   "metadata": {
    "execution": {
     "iopub.execute_input": "2022-04-10T23:48:45.159070Z",
     "iopub.status.busy": "2022-04-10T23:48:45.158646Z",
     "iopub.status.idle": "2022-04-10T23:48:45.163518Z",
     "shell.execute_reply": "2022-04-10T23:48:45.162048Z",
     "shell.execute_reply.started": "2022-04-10T23:48:45.159013Z"
    }
   },
   "outputs": [],
   "source": [
    "# btc_dates = get_date_range(1500)\n",
    "# btc_dates"
   ]
  },
  {
   "cell_type": "markdown",
   "id": "7ea9409e",
   "metadata": {},
   "source": [
    "    -> Run loop of get requests for cryptos"
   ]
  },
  {
   "cell_type": "code",
   "execution_count": 16,
   "id": "3c4a73b9",
   "metadata": {
    "execution": {
     "iopub.execute_input": "2022-04-10T23:48:45.165562Z",
     "iopub.status.busy": "2022-04-10T23:48:45.165160Z",
     "iopub.status.idle": "2022-04-10T23:49:02.353638Z",
     "shell.execute_reply": "2022-04-10T23:49:02.353175Z",
     "shell.execute_reply.started": "2022-04-10T23:48:45.165510Z"
    },
    "tags": []
   },
   "outputs": [
    {
     "name": "stdout",
     "output_type": "stream",
     "text": [
      "goldfinch data not saved - zero values found in data\n",
      "cryptex-finance data not saved - zero values found in data\n",
      "farmers-only data not saved - zero values found in data\n",
      "ampleforth-governance-token data not saved - zero values found in data\n",
      "loom-network-new data not saved - zero values found in data\n",
      "gitcoin data not saved - zero values found in data\n",
      "adventure-gold data not saved - 220 days of data available (< 1 year)\n",
      "clover-finance data not saved - zero values found in data\n",
      "kyber-network-crystal data not saved - zero values found in data\n",
      "moss-carbon-credit data not saved - zero values found in data\n",
      "orca data not saved - 243 days of data available (< 1 year)\n",
      "wrapped-centrifuge data not saved - zero values found in data\n",
      "luna-wormhole data not saved - zero values found in data\n",
      "gods-unchained data not saved - zero values found in data\n",
      "shping data not saved - zero values found in data\n",
      "musd data not saved - zero values found in data\n",
      "assemble-protocol data not saved - zero values found in data\n"
     ]
    }
   ],
   "source": [
    "# loop for small cap cryptos ('crypto_list')\n",
    "token_selection = [] # selecting only files with no zero values and 1 year of data available\n",
    "i = 0\n",
    "for i in range(len(crypto_list)):\n",
    "\ttoken_id = crypto_list['token_id'][i] # this should run within api call loop -- declare new token_id each api call from id_list\n",
    "\turl = ticker_url(token_id,my_dates) # this should run within api call loop -- new url each request\n",
    "\tcrypto_json = get_json_from_api(url)\n",
    "\t\n",
    "\tdf = pd.DataFrame.from_dict(crypto_json)\n",
    "\traw_list = []\n",
    "\t\n",
    "\tj = 0\n",
    "\tfor j in range(len(df['prices'])):\n",
    "\t\traw = int(df['prices'][j][0]/1000)\n",
    "\t\traw_list.append(raw)\n",
    "\n",
    "\t\tdf['prices'][j] = df['prices'][j][1]\n",
    "\t\tdf['market_caps'][j] = df['market_caps'][j][1]\n",
    "\t\tdf['total_volumes'][j] = df['total_volumes'][j][1]\n",
    "\t\n",
    "\tdf_dates = pd.to_datetime(raw_list, unit='s')\n",
    "\t\n",
    "\tdf.insert(0,'date',df_dates)\n",
    "\tdf.set_index('date',inplace=True)\n",
    "\t\n",
    "\tdf['prices'] = df['prices'].astype(float, errors = 'raise')\n",
    "\tdf['market_caps'] = df['market_caps'].astype(float, errors = 'raise')\n",
    "\tdf['total_volumes'] = df['total_volumes'].astype(float, errors = 'raise')\n",
    "\n",
    "\tif 0 in df.values:\n",
    "\t\tprint(f\"{token_id} data not saved - zero values found in data\")\n",
    "\telif len(df)-1  < 365:\n",
    "\t\tprint(f\"{token_id} data not saved - {len(df)-1} days of data available (< 1 year)\")\n",
    "\telse:\n",
    "\t\ttoken_selection.append(token_id)\n",
    "\t\tticker_path = 'Data/' + token_id + '.csv'\n",
    "\t\tdf.to_csv(ticker_path)"
   ]
  },
  {
   "cell_type": "code",
   "execution_count": 17,
   "id": "04078791-8c6b-4f8d-9fb3-5a6009412b41",
   "metadata": {
    "execution": {
     "iopub.execute_input": "2022-04-10T23:49:02.354990Z",
     "iopub.status.busy": "2022-04-10T23:49:02.354542Z",
     "iopub.status.idle": "2022-04-10T23:49:02.358910Z",
     "shell.execute_reply": "2022-04-10T23:49:02.358290Z",
     "shell.execute_reply.started": "2022-04-10T23:49:02.354971Z"
    }
   },
   "outputs": [
    {
     "name": "stdout",
     "output_type": "stream",
     "text": [
      "CoinGecko API requests complete for all items in crypto_list.csv.\n",
      "Numerical data changed from dtype object to float.\n",
      "28 csv files saved to Data folder.\n"
     ]
    }
   ],
   "source": [
    "print(\"CoinGecko API requests complete for all items in crypto_list.csv.\")\n",
    "print(\"Numerical data changed from dtype object to float.\")\n",
    "print(f\"{len(token_selection)} csv files saved to Data folder.\")"
   ]
  },
  {
   "cell_type": "code",
   "execution_count": 25,
   "id": "5f510ea9-472b-43b4-af25-e662f9c6f693",
   "metadata": {
    "execution": {
     "iopub.execute_input": "2022-04-11T00:04:11.793514Z",
     "iopub.status.busy": "2022-04-11T00:04:11.793142Z",
     "iopub.status.idle": "2022-04-11T00:04:11.797399Z",
     "shell.execute_reply": "2022-04-11T00:04:11.796650Z",
     "shell.execute_reply.started": "2022-04-11T00:04:11.793488Z"
    },
    "tags": []
   },
   "outputs": [],
   "source": [
    "crypto_subset = pd.DataFrame(token_selection)\n",
    "crypto_subset = crypto_subset.transpose()"
   ]
  },
  {
   "cell_type": "code",
   "execution_count": 20,
   "id": "c12dba39",
   "metadata": {
    "execution": {
     "iopub.execute_input": "2022-04-10T23:49:02.374478Z",
     "iopub.status.busy": "2022-04-10T23:49:02.373739Z",
     "iopub.status.idle": "2022-04-10T23:49:02.381587Z",
     "shell.execute_reply": "2022-04-10T23:49:02.380993Z",
     "shell.execute_reply.started": "2022-04-10T23:49:02.374455Z"
    },
    "jupyter": {
     "source_hidden": true
    },
    "tags": []
   },
   "outputs": [
    {
     "name": "stdout",
     "output_type": "stream",
     "text": [
      "Using same date range for Ethereum and Bitcoin\n"
     ]
    }
   ],
   "source": [
    "expand_date_range = False\n",
    "\n",
    "if expand_date_range == True:\n",
    "    # loop for bitcoin and ethereum (running separately with expanded date range)\n",
    "    i = 0\n",
    "    for i in range(len(btc_eth)):\n",
    "        token_id = btc_eth['token_id'][i] # this should run within api call loop -- declare new token_id each api call from id_list\n",
    "        url = ticker_url(token_id,btc_dates) # this should run within api call loop -- new url each request\n",
    "        crypto_json = get_json_from_api(url)\n",
    "\n",
    "        df = pd.DataFrame.from_dict(crypto_json)\n",
    "        raw_list = []\n",
    "\n",
    "        j = 0\n",
    "        for j in range(len(df['prices'])):\n",
    "            raw = int(df['prices'][j][0]/1000)\n",
    "            raw_list.append(raw)\n",
    "\n",
    "            df['prices'][j] = df['prices'][j][1]\n",
    "            df['market_caps'][j] = df['market_caps'][j][1]\n",
    "            df['total_volumes'][j] = df['total_volumes'][j][1]\n",
    "\n",
    "        df_dates = pd.to_datetime(raw_list, unit='s')\n",
    "\n",
    "        df.insert(0,'date',df_dates)\n",
    "        df.set_index('date',inplace=True)\n",
    "\n",
    "        df['prices'] = df['prices'].astype(float, errors = 'raise')\n",
    "        df['market_caps'] = df['market_caps'].astype(float, errors = 'raise')\n",
    "        df['total_volumes'] = df['total_volumes'].astype(float, errors = 'raise')\n",
    "\n",
    "        ticker_path = 'Data/' + token_id + '.csv'\n",
    "        df.to_csv(ticker_path)\n",
    "else:\n",
    "    print(\"Using same date range for Ethereum and Bitcoin\")"
   ]
  },
  {
   "cell_type": "code",
   "execution_count": 26,
   "id": "c32a5585",
   "metadata": {
    "execution": {
     "iopub.execute_input": "2022-04-11T00:04:20.185915Z",
     "iopub.status.busy": "2022-04-11T00:04:20.185698Z",
     "iopub.status.idle": "2022-04-11T00:04:20.190161Z",
     "shell.execute_reply": "2022-04-11T00:04:20.189664Z",
     "shell.execute_reply.started": "2022-04-11T00:04:20.185892Z"
    },
    "tags": []
   },
   "outputs": [
    {
     "name": "stdout",
     "output_type": "stream",
     "text": [
      "token_selection.csv saved to root directory.\n"
     ]
    }
   ],
   "source": [
    "crypto_subset.to_csv('token_selection.csv', index=False)\n",
    "print(\"token_selection.csv saved to root directory.\")"
   ]
  },
  {
   "cell_type": "code",
   "execution_count": null,
   "id": "ff27ff45",
   "metadata": {
    "tags": []
   },
   "outputs": [],
   "source": []
  },
  {
   "cell_type": "code",
   "execution_count": null,
   "id": "93881b86",
   "metadata": {
    "tags": []
   },
   "outputs": [],
   "source": []
  },
  {
   "cell_type": "code",
   "execution_count": null,
   "id": "9a3134df",
   "metadata": {},
   "outputs": [],
   "source": []
  }
 ],
 "metadata": {
  "kernelspec": {
   "display_name": "Python 3 (ipykernel)",
   "language": "python",
   "name": "python3"
  },
  "language_info": {
   "codemirror_mode": {
    "name": "ipython",
    "version": 3
   },
   "file_extension": ".py",
   "mimetype": "text/x-python",
   "name": "python",
   "nbconvert_exporter": "python",
   "pygments_lexer": "ipython3",
   "version": "3.9.7"
  }
 },
 "nbformat": 4,
 "nbformat_minor": 5
}
