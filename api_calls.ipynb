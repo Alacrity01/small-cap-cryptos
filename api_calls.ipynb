{
 "cells": [
  {
   "cell_type": "code",
   "execution_count": null,
   "id": "39081d55",
   "metadata": {},
   "outputs": [],
   "source": [
    "# conda create --clone pyvizenv --name smallcapcryptosenv -y"
   ]
  },
  {
   "cell_type": "code",
   "execution_count": null,
   "id": "6f9ca597",
   "metadata": {},
   "outputs": [],
   "source": [
    "# conda activate smallcapcryptosenv"
   ]
  },
  {
   "cell_type": "code",
   "execution_count": null,
   "id": "2a27e585",
   "metadata": {},
   "outputs": [],
   "source": [
    "# !conda install -c anaconda seaborn -y"
   ]
  },
  {
   "cell_type": "code",
   "execution_count": null,
   "id": "60e4887e",
   "metadata": {},
   "outputs": [],
   "source": [
    "# !pip install pycoingecko"
   ]
  },
  {
   "cell_type": "code",
   "execution_count": 5,
   "id": "676b0589",
   "metadata": {},
   "outputs": [],
   "source": [
    "# Initial Imports\n",
    "import pandas as pd\n",
    "import os\n",
    "from pathlib import Path\n",
    "\n",
    "import requests\n",
    "from pycoingecko import CoinGeckoAPI\n",
    "cg = CoinGeckoAPI()\n",
    "\n",
    "# import numpy as np\n",
    "# from dotenv import load_dotenv\n",
    "\n",
    "# from MCForecastTools import MCSimulation\n",
    "# import datetime as dt\n",
    "# import seaborn\n",
    "# import matplotlib.pyplot as plt\n",
    "# import panel as pn\n",
    "# from panel.interact import interact\n",
    "# import plotly.express as px\n",
    "\n",
    "# pn.extension(\"plotly\")\n",
    "# %matplotlib inline"
   ]
  },
  {
   "cell_type": "code",
   "execution_count": null,
   "id": "1044a5e7",
   "metadata": {},
   "outputs": [],
   "source": []
  },
  {
   "cell_type": "code",
   "execution_count": 6,
   "id": "6a4f690e",
   "metadata": {},
   "outputs": [],
   "source": [
    "# from pycoingecko import CoinGeckoAPI\n",
    "# cg = CoinGeckoAPI()"
   ]
  },
  {
   "cell_type": "code",
   "execution_count": 7,
   "id": "fafd5d8d",
   "metadata": {},
   "outputs": [],
   "source": [
    "def get_date_range(delta=365):\n",
    "\tdatetime_2 = pd.Timestamp(\"today\").normalize() # current date as timestamp\n",
    "\tdatetime_1 = datetime_2 - pd.to_timedelta(delta, unit=\"Days\")\n",
    "\t\n",
    "\tdates = {\n",
    "\t\t\"date_1\": [datetime_1,datetime_1.timestamp()],\n",
    "\t\t\"date_2\": [datetime_2,datetime_2.timestamp()]}\n",
    "\treturn dates"
   ]
  },
  {
   "cell_type": "code",
   "execution_count": 8,
   "id": "2b0f402b",
   "metadata": {},
   "outputs": [],
   "source": [
    "def ticker_url(token_id, date_range):\n",
    "\tmy_url = f\"https://api.coingecko.com/api/v3/coins/{token_id}/market_chart/range?vs_currency=usd&from={date_range['date_1'][1]}&to={date_range['date_2'][1]}\"\n",
    "\treturn my_url"
   ]
  },
  {
   "cell_type": "code",
   "execution_count": 9,
   "id": "90f8de4b",
   "metadata": {},
   "outputs": [],
   "source": [
    "def get_json_from_api(url):\n",
    "\treturn requests.get(url).json()"
   ]
  },
  {
   "cell_type": "code",
   "execution_count": 10,
   "id": "b4d6d480",
   "metadata": {},
   "outputs": [],
   "source": [
    "crypto_list = pd.read_csv(Path(\"Resources/crypto_list.csv\"))\n",
    "crypto_list.drop(crypto_list.columns[-1],axis=1,inplace=True)"
   ]
  },
  {
   "cell_type": "code",
   "execution_count": 11,
   "id": "d5175816",
   "metadata": {},
   "outputs": [],
   "source": [
    "# csv_paths = []\n",
    "# for item in id_list:\n",
    "# \tcsv_paths.append(\"Data/\" + item + \".csv\")\n",
    "# csv_paths"
   ]
  },
  {
   "cell_type": "code",
   "execution_count": 12,
   "id": "19aa2607",
   "metadata": {},
   "outputs": [
    {
     "data": {
      "text/html": [
       "<div>\n",
       "<style scoped>\n",
       "    .dataframe tbody tr th:only-of-type {\n",
       "        vertical-align: middle;\n",
       "    }\n",
       "\n",
       "    .dataframe tbody tr th {\n",
       "        vertical-align: top;\n",
       "    }\n",
       "\n",
       "    .dataframe thead th {\n",
       "        text-align: right;\n",
       "    }\n",
       "</style>\n",
       "<table border=\"1\" class=\"dataframe\">\n",
       "  <thead>\n",
       "    <tr style=\"text-align: right;\">\n",
       "      <th></th>\n",
       "      <th>ticker</th>\n",
       "      <th>crypto_name</th>\n",
       "      <th>token_id</th>\n",
       "    </tr>\n",
       "  </thead>\n",
       "  <tbody>\n",
       "    <tr>\n",
       "      <th>38</th>\n",
       "      <td>LQTY</td>\n",
       "      <td>LIQUITY</td>\n",
       "      <td>liquity</td>\n",
       "    </tr>\n",
       "    <tr>\n",
       "      <th>39</th>\n",
       "      <td>BOND</td>\n",
       "      <td>BARNBRIDGE</td>\n",
       "      <td>barnbridge</td>\n",
       "    </tr>\n",
       "    <tr>\n",
       "      <th>40</th>\n",
       "      <td>TRB</td>\n",
       "      <td>TELLOR</td>\n",
       "      <td>tellor</td>\n",
       "    </tr>\n",
       "    <tr>\n",
       "      <th>41</th>\n",
       "      <td>ASM</td>\n",
       "      <td>ASSEMBLE PROTOCOL</td>\n",
       "      <td>assemble-protocol</td>\n",
       "    </tr>\n",
       "    <tr>\n",
       "      <th>42</th>\n",
       "      <td>NCT</td>\n",
       "      <td>POLYSWARM</td>\n",
       "      <td>polyswarm</td>\n",
       "    </tr>\n",
       "  </tbody>\n",
       "</table>\n",
       "</div>"
      ],
      "text/plain": [
       "   ticker        crypto_name           token_id\n",
       "38   LQTY            LIQUITY            liquity\n",
       "39   BOND         BARNBRIDGE         barnbridge\n",
       "40    TRB             TELLOR             tellor\n",
       "41    ASM  ASSEMBLE PROTOCOL  assemble-protocol\n",
       "42    NCT          POLYSWARM          polyswarm"
      ]
     },
     "execution_count": 12,
     "metadata": {},
     "output_type": "execute_result"
    }
   ],
   "source": [
    "crypto_list.tail()"
   ]
  },
  {
   "cell_type": "code",
   "execution_count": null,
   "id": "ba2f5133",
   "metadata": {},
   "outputs": [],
   "source": []
  },
  {
   "cell_type": "code",
   "execution_count": 13,
   "id": "e577b1dc",
   "metadata": {},
   "outputs": [],
   "source": [
    "# token_id_list = crypto_list['token_id']\n",
    "# token_id_list.tail() # pd.Series"
   ]
  },
  {
   "cell_type": "code",
   "execution_count": null,
   "id": "2cf23799",
   "metadata": {},
   "outputs": [],
   "source": []
  },
  {
   "cell_type": "code",
   "execution_count": null,
   "id": "d4a152c3",
   "metadata": {},
   "outputs": [],
   "source": []
  },
  {
   "cell_type": "markdown",
   "id": "0912d744",
   "metadata": {},
   "source": [
    "### Coingecko API get request"
   ]
  },
  {
   "cell_type": "code",
   "execution_count": 14,
   "id": "12f01bc1",
   "metadata": {},
   "outputs": [],
   "source": [
    "my_dates = get_date_range() # this should only run once--keep out of loop\n",
    "# my_dates['date_1'][0] # output (datetime):  Timestamp('2021-04-05 00:00:00')\n",
    "# my_dates['date_1'][1] # output (unix time): 1617580800.0"
   ]
  },
  {
   "cell_type": "markdown",
   "id": "b6faa65f",
   "metadata": {},
   "source": [
    "    -> Run loop of get requests for cryptos"
   ]
  },
  {
   "cell_type": "code",
   "execution_count": 15,
   "id": "0a8535a7",
   "metadata": {},
   "outputs": [],
   "source": [
    "# i = 0"
   ]
  },
  {
   "cell_type": "code",
   "execution_count": 16,
   "id": "95b2fd90",
   "metadata": {},
   "outputs": [],
   "source": [
    "# len(crypto_list) # output: 43"
   ]
  },
  {
   "cell_type": "code",
   "execution_count": 17,
   "id": "1bfd10cb",
   "metadata": {},
   "outputs": [],
   "source": [
    "# crypto_list"
   ]
  },
  {
   "cell_type": "code",
   "execution_count": 18,
   "id": "a07eeb71",
   "metadata": {},
   "outputs": [],
   "source": [
    "# i = 0\n",
    "# for i in range(len(crypto_list)):\n",
    "# token_id = crypto_list['token_id'][i] # this should run within api call loop -- declare new token_id each api call from id_list\n",
    "# url = ticker_url(token_id,my_dates) # this should run within api call loop -- new url each request\n",
    "# crypto_json = get_json_from_api(url)\n",
    "\n",
    "# df = pd.DataFrame.from_dict(crypto_json)\n",
    "# raw_list = []\n",
    "\n",
    "# j = 0\n",
    "# for j in range(len(df['prices'])):\n",
    "# \traw = int(df['prices'][j][0]/1000)\n",
    "# \traw_list.append(raw)\n",
    "# \tdf['prices'][0] = df['prices'][0][1]\n",
    "# \tdf['market_caps'][0] = df['market_caps'][0][1]\n",
    "# \tdf['total_volumes'][0] = df['total_volumes'][0][1]\n",
    "\n",
    "# df_dates = pd.to_datetime(raw_list, unit='s')\n",
    "\n",
    "# df.insert(0,'date',df_dates)\n",
    "# df.set_index('date',inplace=True)\n",
    "\n",
    "# \tticker_path = 'Data/' + token_id + '.csv'\n",
    "# \tdf.to_csv(ticker_path)"
   ]
  },
  {
   "cell_type": "code",
   "execution_count": 19,
   "id": "39c91f31",
   "metadata": {},
   "outputs": [],
   "source": [
    "# df['prices'][0]# = df['prices'][0][1]\n",
    "# df['prices'][0]# = \n",
    "# df['prices']"
   ]
  },
  {
   "cell_type": "code",
   "execution_count": 20,
   "id": "b94babb3",
   "metadata": {},
   "outputs": [],
   "source": [
    "# raw = int(df['prices'][j][0]/1000)\n",
    "# raw_list.append(raw)\n",
    "# df['prices'][0] = df['prices'][0][1]\n",
    "# df['market_caps'][0] = df['market_caps'][0][1]\n",
    "# df['total_volumes'][0] = df['total_volumes'][0][1]"
   ]
  },
  {
   "cell_type": "code",
   "execution_count": 21,
   "id": "611ff39a",
   "metadata": {},
   "outputs": [],
   "source": [
    "# df"
   ]
  },
  {
   "cell_type": "code",
   "execution_count": 22,
   "id": "258f124e",
   "metadata": {},
   "outputs": [],
   "source": [
    "# df"
   ]
  },
  {
   "cell_type": "code",
   "execution_count": 23,
   "id": "1e813a43",
   "metadata": {},
   "outputs": [],
   "source": [
    "i = 0\n",
    "for i in range(len(crypto_list)):\n",
    "\ttoken_id = crypto_list['token_id'][i] # this should run within api call loop -- declare new token_id each api call from id_list\n",
    "\turl = ticker_url(token_id,my_dates) # this should run within api call loop -- new url each request\n",
    "\tcrypto_json = get_json_from_api(url)\n",
    "\t\n",
    "\tdf = pd.DataFrame.from_dict(crypto_json)\n",
    "\traw_list = []\n",
    "\t\n",
    "\tj = 0\n",
    "\tfor j in range(len(df['prices'])):\n",
    "\t\traw = int(df['prices'][j][0]/1000)\n",
    "\t\traw_list.append(raw)\n",
    "\n",
    "\t\tdf['prices'][j] = df['prices'][j][1]\n",
    "\t\tdf['market_caps'][j] = df['market_caps'][j][1]\n",
    "\t\tdf['total_volumes'][j] = df['total_volumes'][j][1]\n",
    "\t\n",
    "\tdf_dates = pd.to_datetime(raw_list, unit='s')\n",
    "\t\n",
    "\tdf.insert(0,'date',df_dates)\n",
    "\tdf.set_index('date',inplace=True)\n",
    "\n",
    "\tdf['prices'] = df['prices'].astype(float, errors = 'raise')\n",
    "\tdf['market_caps'] = df['market_caps'].astype(float, errors = 'raise')\n",
    "\tdf['total_volumes'] = df['total_volumes'].astype(float, errors = 'raise')\n",
    "\n",
    "\tticker_path = 'Data/' + token_id + '.csv'\n",
    "\tdf.to_csv(ticker_path)"
   ]
  },
  {
   "cell_type": "code",
   "execution_count": 28,
   "id": "44661cf9",
   "metadata": {},
   "outputs": [
    {
     "data": {
      "text/plain": [
       "prices           float64\n",
       "market_caps      float64\n",
       "total_volumes    float64\n",
       "dtype: object"
      ]
     },
     "execution_count": 28,
     "metadata": {},
     "output_type": "execute_result"
    }
   ],
   "source": [
    "df.dtypes"
   ]
  }
 ],
 "metadata": {
  "kernelspec": {
   "display_name": "Python 3 (ipykernel)",
   "language": "python",
   "name": "python3"
  },
  "language_info": {
   "codemirror_mode": {
    "name": "ipython",
    "version": 3
   },
   "file_extension": ".py",
   "mimetype": "text/x-python",
   "name": "python",
   "nbconvert_exporter": "python",
   "pygments_lexer": "ipython3",
   "version": "3.7.11"
  }
 },
 "nbformat": 4,
 "nbformat_minor": 5
}
