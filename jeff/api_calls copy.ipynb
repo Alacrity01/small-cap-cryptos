{
 "cells": [
  {
   "cell_type": "code",
   "execution_count": null,
   "id": "685ffd1a",
   "metadata": {},
   "outputs": [],
   "source": [
    "# conda create --clone pyvizenv --name smallcapcryptosenv -y"
   ]
  },
  {
   "cell_type": "code",
   "execution_count": null,
   "id": "7d2fd931",
   "metadata": {},
   "outputs": [],
   "source": [
    "# conda activate smallcapcryptosenv"
   ]
  },
  {
   "cell_type": "code",
   "execution_count": null,
   "id": "4d0f92f4",
   "metadata": {},
   "outputs": [],
   "source": [
    "# !conda install -c anaconda seaborn -y"
   ]
  },
  {
   "cell_type": "code",
   "execution_count": null,
   "id": "4661e459",
   "metadata": {},
   "outputs": [],
   "source": [
    "# !pip install pycoingecko"
   ]
  },
  {
   "cell_type": "code",
   "execution_count": 158,
   "id": "86eac093",
   "metadata": {},
   "outputs": [],
   "source": [
    "# Initial Imports\n",
    "import pandas as pd\n",
    "import os\n",
    "from pathlib import Path\n",
    "\n",
    "import requests\n",
    "from pycoingecko import CoinGeckoAPI\n",
    "cg = CoinGeckoAPI()\n",
    "\n",
    "# import numpy as np\n",
    "# from dotenv import load_dotenv\n",
    "\n",
    "# from MCForecastTools import MCSimulation\n",
    "# import datetime as dt\n",
    "# import seaborn\n",
    "# import matplotlib.pyplot as plt\n",
    "# import panel as pn\n",
    "# from panel.interact import interact\n",
    "# import plotly.express as px\n",
    "\n",
    "# pn.extension(\"plotly\")\n",
    "# %matplotlib inline"
   ]
  },
  {
   "cell_type": "code",
   "execution_count": null,
   "id": "e047945d",
   "metadata": {},
   "outputs": [],
   "source": []
  },
  {
   "cell_type": "code",
   "execution_count": 159,
   "id": "99be095f",
   "metadata": {},
   "outputs": [],
   "source": [
    "# from pycoingecko import CoinGeckoAPI\n",
    "# cg = CoinGeckoAPI()"
   ]
  },
  {
   "cell_type": "code",
   "execution_count": 160,
   "id": "e1067c69",
   "metadata": {},
   "outputs": [],
   "source": [
    "def get_date_range(delta=365):\n",
    "\tdatetime_2 = pd.Timestamp(\"today\").normalize() # current date as timestamp\n",
    "\tdatetime_1 = datetime_2 - pd.to_timedelta(delta, unit=\"Days\")\n",
    "\t\n",
    "\tdates = {\n",
    "\t\t\"date_1\": [datetime_1,datetime_1.timestamp()],\n",
    "\t\t\"date_2\": [datetime_2,datetime_2.timestamp()]}\n",
    "\treturn dates"
   ]
  },
  {
   "cell_type": "code",
   "execution_count": 169,
   "id": "91aa015e",
   "metadata": {},
   "outputs": [],
   "source": [
    "def ticker_url(token_id, date_range):\n",
    "\tmy_url = f\"https://api.coingecko.com/api/v3/coins/{token_id}/market_chart/range?vs_currency=usd&from={date_range['date_1'][1]}&to={date_range['date_2'][1]}\"\n",
    "\treturn my_url"
   ]
  },
  {
   "cell_type": "code",
   "execution_count": 170,
   "id": "f0895e5c",
   "metadata": {},
   "outputs": [],
   "source": [
    "def get_json_from_api(url):\n",
    "\treturn requests.get(url).json()"
   ]
  },
  {
   "cell_type": "code",
   "execution_count": 171,
   "id": "23345f4f",
   "metadata": {},
   "outputs": [],
   "source": [
    "crypto_list = pd.read_csv(Path(\"Resources/crypto_list.csv\"))\n",
    "crypto_list.drop(crypto_list.columns[-1],axis=1,inplace=True)"
   ]
  },
  {
   "cell_type": "code",
   "execution_count": 172,
   "id": "aa130ca5",
   "metadata": {},
   "outputs": [],
   "source": [
    "# csv_paths = []\n",
    "# for item in id_list:\n",
    "# \tcsv_paths.append(\"Data/\" + item + \".csv\")\n",
    "# csv_paths"
   ]
  },
  {
   "cell_type": "code",
   "execution_count": 173,
   "id": "01ea91cf",
   "metadata": {},
   "outputs": [
    {
     "data": {
      "text/html": [
       "<div>\n",
       "<style scoped>\n",
       "    .dataframe tbody tr th:only-of-type {\n",
       "        vertical-align: middle;\n",
       "    }\n",
       "\n",
       "    .dataframe tbody tr th {\n",
       "        vertical-align: top;\n",
       "    }\n",
       "\n",
       "    .dataframe thead th {\n",
       "        text-align: right;\n",
       "    }\n",
       "</style>\n",
       "<table border=\"1\" class=\"dataframe\">\n",
       "  <thead>\n",
       "    <tr style=\"text-align: right;\">\n",
       "      <th></th>\n",
       "      <th>ticker</th>\n",
       "      <th>crypto_name</th>\n",
       "      <th>token_id</th>\n",
       "    </tr>\n",
       "  </thead>\n",
       "  <tbody>\n",
       "    <tr>\n",
       "      <th>38</th>\n",
       "      <td>LQTY</td>\n",
       "      <td>LIQUITY</td>\n",
       "      <td>liquity</td>\n",
       "    </tr>\n",
       "    <tr>\n",
       "      <th>39</th>\n",
       "      <td>BOND</td>\n",
       "      <td>BARNBRIDGE</td>\n",
       "      <td>barnbridge</td>\n",
       "    </tr>\n",
       "    <tr>\n",
       "      <th>40</th>\n",
       "      <td>TRB</td>\n",
       "      <td>TELLOR</td>\n",
       "      <td>tellor</td>\n",
       "    </tr>\n",
       "    <tr>\n",
       "      <th>41</th>\n",
       "      <td>ASM</td>\n",
       "      <td>ASSEMBLE PROTOCOL</td>\n",
       "      <td>assemble-protocol</td>\n",
       "    </tr>\n",
       "    <tr>\n",
       "      <th>42</th>\n",
       "      <td>NCT</td>\n",
       "      <td>POLYSWARM</td>\n",
       "      <td>polyswarm</td>\n",
       "    </tr>\n",
       "  </tbody>\n",
       "</table>\n",
       "</div>"
      ],
      "text/plain": [
       "   ticker        crypto_name           token_id\n",
       "38   LQTY            LIQUITY            liquity\n",
       "39   BOND         BARNBRIDGE         barnbridge\n",
       "40    TRB             TELLOR             tellor\n",
       "41    ASM  ASSEMBLE PROTOCOL  assemble-protocol\n",
       "42    NCT          POLYSWARM          polyswarm"
      ]
     },
     "execution_count": 173,
     "metadata": {},
     "output_type": "execute_result"
    }
   ],
   "source": [
    "crypto_list.tail()"
   ]
  },
  {
   "cell_type": "code",
   "execution_count": null,
   "id": "1f7cd3d5",
   "metadata": {},
   "outputs": [],
   "source": []
  },
  {
   "cell_type": "code",
   "execution_count": 174,
   "id": "fa5f1cb7",
   "metadata": {},
   "outputs": [],
   "source": [
    "# token_id_list = crypto_list['token_id']\n",
    "# token_id_list.tail() # pd.Series"
   ]
  },
  {
   "cell_type": "code",
   "execution_count": null,
   "id": "bcecfcc7",
   "metadata": {},
   "outputs": [],
   "source": []
  },
  {
   "cell_type": "code",
   "execution_count": null,
   "id": "410973c6",
   "metadata": {},
   "outputs": [],
   "source": []
  },
  {
   "cell_type": "markdown",
   "id": "1c45ef0e",
   "metadata": {},
   "source": [
    "### Coingecko API get request"
   ]
  },
  {
   "cell_type": "code",
   "execution_count": 175,
   "id": "798e64e9",
   "metadata": {},
   "outputs": [],
   "source": [
    "my_dates = get_date_range() # this should only run once--keep out of loop\n",
    "# my_dates['date_1'][0] # output (datetime):  Timestamp('2021-04-05 00:00:00')\n",
    "# my_dates['date_1'][1] # output (unix time): 1617580800.0"
   ]
  },
  {
   "cell_type": "markdown",
   "id": "7bae1133",
   "metadata": {},
   "source": [
    "    -> Run loop of get requests for cryptos"
   ]
  },
  {
   "cell_type": "code",
   "execution_count": 176,
   "id": "843026f4",
   "metadata": {},
   "outputs": [],
   "source": [
    "# i = 0"
   ]
  },
  {
   "cell_type": "code",
   "execution_count": 177,
   "id": "2cddc173",
   "metadata": {},
   "outputs": [],
   "source": [
    "# len(crypto_list) # output: 43"
   ]
  },
  {
   "cell_type": "code",
   "execution_count": 180,
   "id": "854144a7",
   "metadata": {},
   "outputs": [],
   "source": [
    "# crypto_list"
   ]
  },
  {
   "cell_type": "code",
   "execution_count": 181,
   "id": "c32a1b67",
   "metadata": {},
   "outputs": [],
   "source": [
    "i = 0\n",
    "for i in range(len(crypto_list)):\n",
    "\ttoken_id = crypto_list['token_id'][i] # this should run within api call loop -- declare new token_id each api call from id_list\n",
    "\turl = ticker_url(token_id,date_range) # this should run within api call loop -- new url each request\n",
    "\tcrypto_json = get_json_from_api(url)\n",
    "\t\n",
    "\tdf = pd.DataFrame.from_dict(crypto_json)\n",
    "\traw_list = []\n",
    "\t\n",
    "\tj = 0\n",
    "\tfor j in range(len(df['prices'])):\n",
    "\t\traw = int(df['prices'][j][0]/1000)\n",
    "\t\traw_list.append(raw)\n",
    "\t\n",
    "\tdf_dates = pd.to_datetime(raw_list, unit='s')\n",
    "\t\n",
    "\tdf.insert(0,'date',df_dates)\n",
    "\tdf.set_index('date',inplace=True)\n",
    "\n",
    "\tticker_path = 'Data/' + token_id + '.csv'\n",
    "\tdf.to_csv(ticker_path)"
   ]
  },
  {
   "cell_type": "code",
   "execution_count": 155,
   "id": "93f034bb",
   "metadata": {},
   "outputs": [],
   "source": []
  },
  {
   "cell_type": "code",
   "execution_count": 151,
   "id": "fa7a33c7",
   "metadata": {},
   "outputs": [],
   "source": []
  },
  {
   "cell_type": "code",
   "execution_count": 182,
   "id": "17423c01",
   "metadata": {},
   "outputs": [],
   "source": [
    "# # pandas.to_datetime(col, unit = \"s\")\n",
    "# raw_list = []\n",
    "# for i in range(len(df['prices'])):\n",
    "# \traw = int(df['prices'][i][0]/1000)\n",
    "# \traw_list.append(raw)\n",
    "\n",
    "# df_dates = pd.to_datetime(raw_list, unit='s')\n",
    "\n",
    "# df.insert(0,'date',df_dates)\n",
    "# df.set_index('date',inplace=True)\n",
    "# df"
   ]
  },
  {
   "cell_type": "code",
   "execution_count": null,
   "id": "6ffff407",
   "metadata": {},
   "outputs": [],
   "source": []
  },
  {
   "cell_type": "code",
   "execution_count": 184,
   "id": "c08406ff",
   "metadata": {},
   "outputs": [],
   "source": [
    "# for value in df['prices']:\n",
    "# \tnew_str = value.replace(\"[\", \"\").replace(\"]\",\"\")#.replace(\"00000\",\".\")\n",
    "# \tnew_str = new_str.split(', ')[0]\n",
    "# \tdate = float(new_str)\n",
    "# \tdate_list.append(date)\n",
    "\n",
    "# raw = int(df['prices'][0][0]/1000)\n",
    "# type(raw)\n",
    "# type(raw)\n",
    "# raw\n",
    "# raw.replace(\"[\", \"\").replace(\"]\",\"\")#.replace(\"00000\",\".\")"
   ]
  },
  {
   "cell_type": "code",
   "execution_count": 183,
   "id": "55261086",
   "metadata": {},
   "outputs": [],
   "source": [
    "# type(pd.date_range(start=my_dates['date_1'][0],end=my_dates['date_2'][0],freq='D'))\n",
    "# df = pd.DataFrame.from_dict(crypto_json)\n",
    "\n",
    "# df.set_index(pd.date_range(start=my_dates['date_1'][0],end=my_dates['date_2'][0],freq='D'),inplace=True)\n",
    "# df = pd.DataFrame.from_dict(crypto_json)#, orient='columns', dtype=None, columns=None)\n",
    "# df.date_range()\n",
    "# df"
   ]
  },
  {
   "cell_type": "code",
   "execution_count": null,
   "id": "d2fb65d3",
   "metadata": {},
   "outputs": [],
   "source": [
    "# def get_json(url):\n",
    "# \treturn requests.get(url).json()\n",
    "\t\n",
    "# \ttoken_id = id_list[i]\n",
    "# \turl = ticker_url(token_id,from_to) #custom method in this line--must change if changing method name\n",
    "# \tdf = pd.DataFrame.from_dict(token_json, orient='columns', dtype=None, columns=None)\n",
    "\t\n",
    "# \tdf_dates = make_datetime_index(df) #custom method in this line--must change if changing method name\n",
    "# \tdf.set_index(df_dates,inplace=True)\n",
    "# \tticker_path = 'Data/' + token_id + '.csv'\n",
    "# \tdf.to_csv(ticker_path)"
   ]
  },
  {
   "cell_type": "code",
   "execution_count": null,
   "id": "91d6852f",
   "metadata": {},
   "outputs": [],
   "source": []
  },
  {
   "cell_type": "code",
   "execution_count": null,
   "id": "af4ddbc7",
   "metadata": {},
   "outputs": [],
   "source": []
  },
  {
   "cell_type": "code",
   "execution_count": 59,
   "id": "e35a6522",
   "metadata": {},
   "outputs": [],
   "source": [
    "# token_id"
   ]
  },
  {
   "cell_type": "code",
   "execution_count": 60,
   "id": "8b02b8a2",
   "metadata": {},
   "outputs": [],
   "source": [
    "# url = ticker_url(token_id,date_range) # this should run within api call loop -- new url each request\n",
    "# url"
   ]
  },
  {
   "cell_type": "code",
   "execution_count": null,
   "id": "0efd8f1b",
   "metadata": {},
   "outputs": [],
   "source": [
    "# my_timestamp = pd.Timestamp(\"today\",unit=\"s\")\n",
    "# my_timestamp.Timestamp(\"\")\n",
    "\n",
    "# my_str = '[1619740800000, 23.327418267811513]'\n",
    "# my_str\n"
   ]
  },
  {
   "cell_type": "code",
   "execution_count": null,
   "id": "12dab316",
   "metadata": {},
   "outputs": [],
   "source": []
  },
  {
   "cell_type": "code",
   "execution_count": null,
   "id": "01cd6e58",
   "metadata": {},
   "outputs": [],
   "source": []
  },
  {
   "cell_type": "code",
   "execution_count": null,
   "id": "569e6f4b",
   "metadata": {},
   "outputs": [],
   "source": []
  },
  {
   "cell_type": "code",
   "execution_count": null,
   "id": "bfb25569",
   "metadata": {},
   "outputs": [],
   "source": [
    "# for value in df['prices']:\n",
    "# \tnew_str = value.replace(\"[\", \"\").replace(\"]\",\"\")#.replace(\"00000\",\".\")\n",
    "# \tnew_str = new_str.split(', ')[0]\n",
    "# \tdate = float(new_str)\n",
    "# \tdate_list.append(date)\n",
    "\t\n",
    "# datetime_list = []\n",
    "# for date in date_list:\n",
    "# \tdatetime_list.append(datetime.utcfromtimestamp(date/1000).strftime('%Y-%m-%d %H:%M:%S'))\t"
   ]
  },
  {
   "cell_type": "code",
   "execution_count": null,
   "id": "a9720099",
   "metadata": {},
   "outputs": [],
   "source": []
  },
  {
   "cell_type": "code",
   "execution_count": null,
   "id": "1424956d",
   "metadata": {},
   "outputs": [],
   "source": [
    "# def time_range(delta=365):\n",
    "# \ttimestamp_2 = pd.Timestamp(\"today\", tz=\"America/Chicago\") # current date as timestamp\n",
    "# \ttimestamp_1 = date_2 - pd.to_timedelta(delta, unit=\"Days\")\n",
    "\t\n",
    "# \tdates = {\n",
    "# \t\t\"date_1\": timestamp_1,\n",
    "# \t\t\"date_2\": timestamp_2}\n",
    "# \treturn dates"
   ]
  },
  {
   "cell_type": "code",
   "execution_count": null,
   "id": "150f49b1",
   "metadata": {},
   "outputs": [],
   "source": [
    "# def unix_date(dates):\n",
    "# \treturn [dates['date_1'].timestamp(), dates['date_2'].timestamp()]"
   ]
  },
  {
   "cell_type": "code",
   "execution_count": null,
   "id": "585ee5b1",
   "metadata": {},
   "outputs": [],
   "source": [
    "# def ticker_url(token_id, from_to):\n",
    "# \tmy_url = f\"https://api.coingecko.com/api/v3/coins/{token_id}/market_chart/range?vs_currency=usd&from={from_to[0]}&to={from_to[1]}\"\n",
    "# \treturn my_url"
   ]
  },
  {
   "cell_type": "code",
   "execution_count": 98,
   "id": "6612ea16",
   "metadata": {},
   "outputs": [],
   "source": [
    "# def get_to_csv(id_list, i):\n",
    "# \ttoken_id = id_list[i]\n",
    "# \turl = ticker_url(token_id,from_to) #custom method in this line--must change if changing method name\n",
    "# \ttoken_json = requests.get(url).json()\n",
    "# \tdf = pd.DataFrame.from_dict(token_json, orient='columns', dtype=None, columns=None)\n",
    "\t\n",
    "# \tdf_dates = make_datetime_index(df) #custom method in this line--must change if changing method name\n",
    "# \tdf.set_index(df_dates,inplace=True)\n",
    "# \tticker_path = 'Data/' + token_id + '.csv'\n",
    "# \tdf.to_csv(ticker_path)"
   ]
  },
  {
   "cell_type": "code",
   "execution_count": null,
   "id": "a4333514",
   "metadata": {},
   "outputs": [],
   "source": [
    "# def unix_dates(df):\n",
    "# \tunix_dates = []\n",
    "# \tfor i in range(len(df['prices'])):\n",
    "# \t\tnew_str = df['prices'][i].replace(\"[\", \"\").replace(\"]\",\"\")\n",
    "# \t\tnew_str = new_str.split(', ')[0]\n",
    "# \t\tdate = float(new_str)\n",
    "# \t\tunix_dates.append(date)\n",
    "# \treturn unix_dates\n",
    "\n",
    "# def make_datetimes(unix_dates):\n",
    "# \tdatetimes = []\n",
    "# \tfor x in unix_dates:\n",
    "# \t\tdatetimes.append(datetime.utcfromtimestamp(date/1000).strftime('%Y-%m-%d %H:%M:%S'))\n",
    "# \treturn datetimes"
   ]
  },
  {
   "cell_type": "code",
   "execution_count": null,
   "id": "ed0f2dd7",
   "metadata": {},
   "outputs": [],
   "source": [
    "# def filenames(id_list):\n",
    "# \tfor i in range(len(id_list)):\n",
    "# \t\tget_to_csv(id_list,i)"
   ]
  },
  {
   "cell_type": "code",
   "execution_count": null,
   "id": "46ce6089",
   "metadata": {},
   "outputs": [],
   "source": [
    "# dates = time_range()\n",
    "# from_to = unix_date(dates)"
   ]
  },
  {
   "cell_type": "code",
   "execution_count": null,
   "id": "73bf23dd",
   "metadata": {},
   "outputs": [],
   "source": [
    "# dates"
   ]
  },
  {
   "cell_type": "code",
   "execution_count": null,
   "id": "71b346bc",
   "metadata": {},
   "outputs": [],
   "source": [
    "# from_to"
   ]
  },
  {
   "cell_type": "code",
   "execution_count": null,
   "id": "bc414663",
   "metadata": {},
   "outputs": [],
   "source": [
    "id_list = [\n",
    "\t'maple',\n",
    "\t'bitcoin'\n",
    "]"
   ]
  },
  {
   "cell_type": "code",
   "execution_count": null,
   "id": "ba61cec8",
   "metadata": {},
   "outputs": [],
   "source": [
    "# csv_paths = []\n",
    "# for item in id_list:\n",
    "# \tcsv_paths.append(\"Data/\" + item + \".csv\")\n",
    "# csv_paths"
   ]
  },
  {
   "cell_type": "code",
   "execution_count": null,
   "id": "75e152bd",
   "metadata": {},
   "outputs": [],
   "source": [
    "\n",
    "# df = pd.read_csv(Path(\"Data/bitcoin.csv\"))\n",
    "# df"
   ]
  },
  {
   "cell_type": "code",
   "execution_count": null,
   "id": "4619a4b6",
   "metadata": {},
   "outputs": [],
   "source": [
    "# date_list = []"
   ]
  },
  {
   "cell_type": "code",
   "execution_count": null,
   "id": "c3fd497d",
   "metadata": {},
   "outputs": [],
   "source": [
    "# i = 0\n",
    "# row\n",
    "# value"
   ]
  },
  {
   "cell_type": "code",
   "execution_count": 185,
   "id": "5a49481b",
   "metadata": {},
   "outputs": [],
   "source": [
    "# for value in df['prices']:\n",
    "# \tnew_str = value.replace(\"[\", \"\").replace(\"]\",\"\")#.replace(\"00000\",\".\")\n",
    "# \tnew_str = new_str.split(', ')[0]\n",
    "# \tdate = float(new_str)\n",
    "# \tdate_list.append(date)\n",
    "\t\n",
    "# datetime_list = []\n",
    "# for date in date_list:\n",
    "# \tdatetime_list.append(datetime.utcfromtimestamp(date/1000).strftime('%Y-%m-%d %H:%M:%S'))\t"
   ]
  },
  {
   "cell_type": "code",
   "execution_count": null,
   "id": "91a5bb41",
   "metadata": {},
   "outputs": [],
   "source": [
    "# ts = date_list[0]/1000\n",
    "# datetime_list"
   ]
  },
  {
   "cell_type": "code",
   "execution_count": null,
   "id": "b3bbac44",
   "metadata": {},
   "outputs": [],
   "source": [
    "# print(datetime.utcfromtimestamp(date_list[0]/1000).strftime('%Y-%m-%d %H:%M:%S'))"
   ]
  },
  {
   "cell_type": "code",
   "execution_count": null,
   "id": "858c57b6",
   "metadata": {},
   "outputs": [],
   "source": [
    "# datetime_list = []\n",
    "# for date in date_list:\n",
    "# \tdatetime_list.append(datetime.utcfromtimestamp(date/1000).strftime('%Y-%m-%d %H:%M:%S'))\t"
   ]
  },
  {
   "cell_type": "code",
   "execution_count": null,
   "id": "9b46e31b",
   "metadata": {},
   "outputs": [],
   "source": [
    "# datetime_list"
   ]
  },
  {
   "cell_type": "code",
   "execution_count": null,
   "id": "873cc996",
   "metadata": {},
   "outputs": [],
   "source": [
    "# ts = int('1284101485')\n",
    "\n",
    "# if you encounter a \"year is out of range\" error the timestamp\n",
    "# may be in milliseconds, try `ts /= 1000` in that case\n",
    "# print(datetime.utcfromtimestamp(date_list[0]/1000).strftime('%Y-%m-%d %H:%M:%S'))"
   ]
  },
  {
   "cell_type": "code",
   "execution_count": null,
   "id": "f38f4a9d",
   "metadata": {},
   "outputs": [],
   "source": [
    "# dt3 = new_str.datetime.fromtimestamp(date_list[0]/1000)\n",
    "# dt3\n",
    "# date_time = datetime.datetime.fromtimestamp(epoch_time)"
   ]
  },
  {
   "cell_type": "code",
   "execution_count": null,
   "id": "19ad8620",
   "metadata": {},
   "outputs": [],
   "source": [
    "\n",
    "# text.replace(\"[\", \"\").replace(\"]\",\"\")"
   ]
  },
  {
   "cell_type": "code",
   "execution_count": null,
   "id": "06e705ee",
   "metadata": {},
   "outputs": [],
   "source": [
    "# df.insert(-1,dates)"
   ]
  },
  {
   "cell_type": "code",
   "execution_count": null,
   "id": "52904169",
   "metadata": {},
   "outputs": [],
   "source": [
    "# sliced_text = ', '\n",
    "# print(text[sliced_text])"
   ]
  },
  {
   "cell_type": "code",
   "execution_count": null,
   "id": "64105ba9",
   "metadata": {},
   "outputs": [],
   "source": [
    "# # importing the datetime package.\n",
    "# import datetime.\n",
    "# # given epoch time.\n",
    "# epoch_time = 40246871.\n",
    "# # using the datetime. fromtimestamp() function.\n",
    "# date_time = datetime. datetime. fromtimestamp( epoch_time )"
   ]
  },
  {
   "cell_type": "code",
   "execution_count": null,
   "id": "8ffaf28a",
   "metadata": {},
   "outputs": [],
   "source": [
    "# date_vals = pd.Series([\"1440643875\", \"1440644191\", \"1440645638\", \"1440998720\"])"
   ]
  }
 ],
 "metadata": {
  "kernelspec": {
   "display_name": "Python [conda env:dev]",
   "language": "python",
   "name": "conda-env-dev-py"
  },
  "language_info": {
   "codemirror_mode": {
    "name": "ipython",
    "version": 3
   },
   "file_extension": ".py",
   "mimetype": "text/x-python",
   "name": "python",
   "nbconvert_exporter": "python",
   "pygments_lexer": "ipython3",
   "version": "3.9.7"
  }
 },
 "nbformat": 4,
 "nbformat_minor": 5
}
