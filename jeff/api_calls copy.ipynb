{
 "cells": [
  {
   "cell_type": "code",
   "execution_count": null,
   "id": "87e3ff18",
   "metadata": {},
   "outputs": [],
   "source": [
    "# conda create --clone pyvizenv --name smallcapcryptosenv -y"
   ]
  },
  {
   "cell_type": "code",
   "execution_count": null,
   "id": "20ea2e03",
   "metadata": {},
   "outputs": [],
   "source": [
    "# conda activate smallcapcryptosenv"
   ]
  },
  {
   "cell_type": "code",
   "execution_count": null,
   "id": "e077324f",
   "metadata": {},
   "outputs": [],
   "source": [
    "# !conda install -c anaconda seaborn -y"
   ]
  },
  {
   "cell_type": "code",
   "execution_count": null,
   "id": "37f77622",
   "metadata": {},
   "outputs": [],
   "source": [
    "# !pip install pycoingecko"
   ]
  },
  {
   "cell_type": "code",
   "execution_count": 158,
   "id": "38009e30",
   "metadata": {},
   "outputs": [],
   "source": [
    "# Initial Imports\n",
    "import pandas as pd\n",
    "import os\n",
    "from pathlib import Path\n",
    "\n",
    "import requests\n",
    "from pycoingecko import CoinGeckoAPI\n",
    "cg = CoinGeckoAPI()\n",
    "\n",
    "# import numpy as np\n",
    "# from dotenv import load_dotenv\n",
    "\n",
    "# from MCForecastTools import MCSimulation\n",
    "# import datetime as dt\n",
    "# import seaborn\n",
    "# import matplotlib.pyplot as plt\n",
    "# import panel as pn\n",
    "# from panel.interact import interact\n",
    "# import plotly.express as px\n",
    "\n",
    "# pn.extension(\"plotly\")\n",
    "# %matplotlib inline"
   ]
  },
  {
   "cell_type": "code",
   "execution_count": null,
   "id": "1582c010",
   "metadata": {},
   "outputs": [],
   "source": []
  },
  {
   "cell_type": "code",
   "execution_count": 159,
   "id": "f1725dac",
   "metadata": {},
   "outputs": [],
   "source": [
    "# from pycoingecko import CoinGeckoAPI\n",
    "# cg = CoinGeckoAPI()"
   ]
  },
  {
   "cell_type": "code",
   "execution_count": 160,
   "id": "c1a28aa2",
   "metadata": {},
   "outputs": [],
   "source": [
    "def get_date_range(delta=365):\n",
    "\tdatetime_2 = pd.Timestamp(\"today\").normalize() # current date as timestamp\n",
    "\tdatetime_1 = datetime_2 - pd.to_timedelta(delta, unit=\"Days\")\n",
    "\t\n",
    "\tdates = {\n",
    "\t\t\"date_1\": [datetime_1,datetime_1.timestamp()],\n",
    "\t\t\"date_2\": [datetime_2,datetime_2.timestamp()]}\n",
    "\treturn dates"
   ]
  },
  {
   "cell_type": "code",
   "execution_count": 169,
   "id": "fb76c3d8",
   "metadata": {},
   "outputs": [],
   "source": [
    "def ticker_url(token_id, date_range):\n",
    "\tmy_url = f\"https://api.coingecko.com/api/v3/coins/{token_id}/market_chart/range?vs_currency=usd&from={date_range['date_1'][1]}&to={date_range['date_2'][1]}\"\n",
    "\treturn my_url"
   ]
  },
  {
   "cell_type": "code",
   "execution_count": 170,
   "id": "69834847",
   "metadata": {},
   "outputs": [],
   "source": [
    "def get_json_from_api(url):\n",
    "\treturn requests.get(url).json()"
   ]
  },
  {
   "cell_type": "code",
   "execution_count": 171,
   "id": "0c10473e",
   "metadata": {},
   "outputs": [],
   "source": [
    "crypto_list = pd.read_csv(Path(\"Resources/crypto_list.csv\"))\n",
    "crypto_list.drop(crypto_list.columns[-1],axis=1,inplace=True)"
   ]
  },
  {
   "cell_type": "code",
   "execution_count": 172,
   "id": "bda4e9d2",
   "metadata": {},
   "outputs": [],
   "source": [
    "# csv_paths = []\n",
    "# for item in id_list:\n",
    "# \tcsv_paths.append(\"Data/\" + item + \".csv\")\n",
    "# csv_paths"
   ]
  },
  {
   "cell_type": "code",
   "execution_count": 173,
   "id": "a2389b2d",
   "metadata": {},
   "outputs": [
    {
     "data": {
      "text/html": [
       "<div>\n",
       "<style scoped>\n",
       "    .dataframe tbody tr th:only-of-type {\n",
       "        vertical-align: middle;\n",
       "    }\n",
       "\n",
       "    .dataframe tbody tr th {\n",
       "        vertical-align: top;\n",
       "    }\n",
       "\n",
       "    .dataframe thead th {\n",
       "        text-align: right;\n",
       "    }\n",
       "</style>\n",
       "<table border=\"1\" class=\"dataframe\">\n",
       "  <thead>\n",
       "    <tr style=\"text-align: right;\">\n",
       "      <th></th>\n",
       "      <th>ticker</th>\n",
       "      <th>crypto_name</th>\n",
       "      <th>token_id</th>\n",
       "    </tr>\n",
       "  </thead>\n",
       "  <tbody>\n",
       "    <tr>\n",
       "      <th>38</th>\n",
       "      <td>LQTY</td>\n",
       "      <td>LIQUITY</td>\n",
       "      <td>liquity</td>\n",
       "    </tr>\n",
       "    <tr>\n",
       "      <th>39</th>\n",
       "      <td>BOND</td>\n",
       "      <td>BARNBRIDGE</td>\n",
       "      <td>barnbridge</td>\n",
       "    </tr>\n",
       "    <tr>\n",
       "      <th>40</th>\n",
       "      <td>TRB</td>\n",
       "      <td>TELLOR</td>\n",
       "      <td>tellor</td>\n",
       "    </tr>\n",
       "    <tr>\n",
       "      <th>41</th>\n",
       "      <td>ASM</td>\n",
       "      <td>ASSEMBLE PROTOCOL</td>\n",
       "      <td>assemble-protocol</td>\n",
       "    </tr>\n",
       "    <tr>\n",
       "      <th>42</th>\n",
       "      <td>NCT</td>\n",
       "      <td>POLYSWARM</td>\n",
       "      <td>polyswarm</td>\n",
       "    </tr>\n",
       "  </tbody>\n",
       "</table>\n",
       "</div>"
      ],
      "text/plain": [
       "   ticker        crypto_name           token_id\n",
       "38   LQTY            LIQUITY            liquity\n",
       "39   BOND         BARNBRIDGE         barnbridge\n",
       "40    TRB             TELLOR             tellor\n",
       "41    ASM  ASSEMBLE PROTOCOL  assemble-protocol\n",
       "42    NCT          POLYSWARM          polyswarm"
      ]
     },
     "execution_count": 173,
     "metadata": {},
     "output_type": "execute_result"
    }
   ],
   "source": [
    "crypto_list.tail()"
   ]
  },
  {
   "cell_type": "code",
   "execution_count": null,
   "id": "fae1004c",
   "metadata": {},
   "outputs": [],
   "source": []
  },
  {
   "cell_type": "code",
   "execution_count": 174,
   "id": "2354799b",
   "metadata": {},
   "outputs": [],
   "source": [
    "# token_id_list = crypto_list['token_id']\n",
    "# token_id_list.tail() # pd.Series"
   ]
  },
  {
   "cell_type": "code",
   "execution_count": null,
   "id": "17cf4b96",
   "metadata": {},
   "outputs": [],
   "source": []
  },
  {
   "cell_type": "code",
   "execution_count": null,
   "id": "c2be7ea7",
   "metadata": {},
   "outputs": [],
   "source": []
  },
  {
   "cell_type": "markdown",
   "id": "d1dff4f5",
   "metadata": {},
   "source": [
    "### Coingecko API get request"
   ]
  },
  {
   "cell_type": "code",
   "execution_count": 175,
   "id": "63ffb863",
   "metadata": {},
   "outputs": [],
   "source": [
    "my_dates = get_date_range() # this should only run once--keep out of loop\n",
    "# my_dates['date_1'][0] # output (datetime):  Timestamp('2021-04-05 00:00:00')\n",
    "# my_dates['date_1'][1] # output (unix time): 1617580800.0"
   ]
  },
  {
   "cell_type": "markdown",
   "id": "4536615e",
   "metadata": {},
   "source": [
    "    -> Run loop of get requests for cryptos"
   ]
  },
  {
   "cell_type": "code",
   "execution_count": 176,
   "id": "7ef8458e",
   "metadata": {},
   "outputs": [],
   "source": [
    "# i = 0"
   ]
  },
  {
   "cell_type": "code",
   "execution_count": 177,
   "id": "8b88cf11",
   "metadata": {},
   "outputs": [],
   "source": [
    "# len(crypto_list) # output: 43"
   ]
  },
  {
   "cell_type": "code",
   "execution_count": 180,
   "id": "652f75bb",
   "metadata": {},
   "outputs": [],
   "source": [
    "# crypto_list"
   ]
  },
  {
   "cell_type": "code",
   "execution_count": 181,
   "id": "52ce1530",
   "metadata": {},
   "outputs": [],
   "source": [
    "i = 0\n",
    "for i in range(len(crypto_list)):\n",
    "\ttoken_id = crypto_list['token_id'][i] # this should run within api call loop -- declare new token_id each api call from id_list\n",
    "\turl = ticker_url(token_id,date_range) # this should run within api call loop -- new url each request\n",
    "\tcrypto_json = get_json_from_api(url)\n",
    "\t\n",
    "\tdf = pd.DataFrame.from_dict(crypto_json)\n",
    "\traw_list = []\n",
    "\t\n",
    "\tj = 0\n",
    "\tfor j in range(len(df['prices'])):\n",
    "\t\traw = int(df['prices'][j][0]/1000)\n",
    "\t\traw_list.append(raw)\n",
    "\t\n",
    "\tdf_dates = pd.to_datetime(raw_list, unit='s')\n",
    "\t\n",
    "\tdf.insert(0,'date',df_dates)\n",
    "\tdf.set_index('date',inplace=True)\n",
    "\n",
    "\tticker_path = 'Data/' + token_id + '.csv'\n",
    "\tdf.to_csv(ticker_path)"
   ]
  },
  {
   "cell_type": "code",
   "execution_count": 155,
   "id": "d122ffae",
   "metadata": {},
   "outputs": [],
   "source": []
  },
  {
   "cell_type": "code",
   "execution_count": 151,
   "id": "9332edc8",
   "metadata": {},
   "outputs": [],
   "source": []
  },
  {
   "cell_type": "code",
   "execution_count": 182,
   "id": "9c8eaf80",
   "metadata": {},
   "outputs": [],
   "source": [
    "# # pandas.to_datetime(col, unit = \"s\")\n",
    "# raw_list = []\n",
    "# for i in range(len(df['prices'])):\n",
    "# \traw = int(df['prices'][i][0]/1000)\n",
    "# \traw_list.append(raw)\n",
    "\n",
    "# df_dates = pd.to_datetime(raw_list, unit='s')\n",
    "\n",
    "# df.insert(0,'date',df_dates)\n",
    "# df.set_index('date',inplace=True)\n",
    "# df"
   ]
  },
  {
   "cell_type": "code",
   "execution_count": null,
   "id": "4c440ae3",
   "metadata": {},
   "outputs": [],
   "source": []
  },
  {
   "cell_type": "code",
   "execution_count": 184,
   "id": "0b5db7ab",
   "metadata": {},
   "outputs": [],
   "source": [
    "# for value in df['prices']:\n",
    "# \tnew_str = value.replace(\"[\", \"\").replace(\"]\",\"\")#.replace(\"00000\",\".\")\n",
    "# \tnew_str = new_str.split(', ')[0]\n",
    "# \tdate = float(new_str)\n",
    "# \tdate_list.append(date)\n",
    "\n",
    "# raw = int(df['prices'][0][0]/1000)\n",
    "# type(raw)\n",
    "# type(raw)\n",
    "# raw\n",
    "# raw.replace(\"[\", \"\").replace(\"]\",\"\")#.replace(\"00000\",\".\")"
   ]
  },
  {
   "cell_type": "code",
   "execution_count": 183,
   "id": "1268c0ac",
   "metadata": {},
   "outputs": [],
   "source": [
    "# type(pd.date_range(start=my_dates['date_1'][0],end=my_dates['date_2'][0],freq='D'))\n",
    "# df = pd.DataFrame.from_dict(crypto_json)\n",
    "\n",
    "# df.set_index(pd.date_range(start=my_dates['date_1'][0],end=my_dates['date_2'][0],freq='D'),inplace=True)\n",
    "# df = pd.DataFrame.from_dict(crypto_json)#, orient='columns', dtype=None, columns=None)\n",
    "# df.date_range()\n",
    "# df"
   ]
  },
  {
   "cell_type": "code",
   "execution_count": null,
   "id": "ba2d200e",
   "metadata": {},
   "outputs": [],
   "source": [
    "# def get_json(url):\n",
    "# \treturn requests.get(url).json()\n",
    "\t\n",
    "# \ttoken_id = id_list[i]\n",
    "# \turl = ticker_url(token_id,from_to) #custom method in this line--must change if changing method name\n",
    "# \tdf = pd.DataFrame.from_dict(token_json, orient='columns', dtype=None, columns=None)\n",
    "\t\n",
    "# \tdf_dates = make_datetime_index(df) #custom method in this line--must change if changing method name\n",
    "# \tdf.set_index(df_dates,inplace=True)\n",
    "# \tticker_path = 'Data/' + token_id + '.csv'\n",
    "# \tdf.to_csv(ticker_path)"
   ]
  },
  {
   "cell_type": "code",
   "execution_count": null,
   "id": "cee76659",
   "metadata": {},
   "outputs": [],
   "source": []
  },
  {
   "cell_type": "code",
   "execution_count": null,
   "id": "6f443b5b",
   "metadata": {},
   "outputs": [],
   "source": []
  },
  {
   "cell_type": "code",
   "execution_count": 59,
   "id": "7f542627",
   "metadata": {},
   "outputs": [],
   "source": [
    "# token_id"
   ]
  },
  {
   "cell_type": "code",
   "execution_count": 60,
   "id": "e2de83ed",
   "metadata": {},
   "outputs": [],
   "source": [
    "# url = ticker_url(token_id,date_range) # this should run within api call loop -- new url each request\n",
    "# url"
   ]
  },
  {
   "cell_type": "code",
   "execution_count": null,
   "id": "a5a362b0",
   "metadata": {},
   "outputs": [],
   "source": [
    "# my_timestamp = pd.Timestamp(\"today\",unit=\"s\")\n",
    "# my_timestamp.Timestamp(\"\")\n",
    "\n",
    "# my_str = '[1619740800000, 23.327418267811513]'\n",
    "# my_str\n"
   ]
  },
  {
   "cell_type": "code",
   "execution_count": null,
   "id": "c9479c61",
   "metadata": {},
   "outputs": [],
   "source": []
  },
  {
   "cell_type": "code",
   "execution_count": null,
   "id": "f867486e",
   "metadata": {},
   "outputs": [],
   "source": []
  },
  {
   "cell_type": "code",
   "execution_count": null,
   "id": "c2443676",
   "metadata": {},
   "outputs": [],
   "source": []
  },
  {
   "cell_type": "code",
   "execution_count": null,
   "id": "4186c2f3",
   "metadata": {},
   "outputs": [],
   "source": [
    "# for value in df['prices']:\n",
    "# \tnew_str = value.replace(\"[\", \"\").replace(\"]\",\"\")#.replace(\"00000\",\".\")\n",
    "# \tnew_str = new_str.split(', ')[0]\n",
    "# \tdate = float(new_str)\n",
    "# \tdate_list.append(date)\n",
    "\t\n",
    "# datetime_list = []\n",
    "# for date in date_list:\n",
    "# \tdatetime_list.append(datetime.utcfromtimestamp(date/1000).strftime('%Y-%m-%d %H:%M:%S'))\t"
   ]
  },
  {
   "cell_type": "code",
   "execution_count": null,
   "id": "14c96eff",
   "metadata": {},
   "outputs": [],
   "source": []
  },
  {
   "cell_type": "code",
   "execution_count": null,
   "id": "b442c185",
   "metadata": {},
   "outputs": [],
   "source": [
    "# def time_range(delta=365):\n",
    "# \ttimestamp_2 = pd.Timestamp(\"today\", tz=\"America/Chicago\") # current date as timestamp\n",
    "# \ttimestamp_1 = date_2 - pd.to_timedelta(delta, unit=\"Days\")\n",
    "\t\n",
    "# \tdates = {\n",
    "# \t\t\"date_1\": timestamp_1,\n",
    "# \t\t\"date_2\": timestamp_2}\n",
    "# \treturn dates"
   ]
  },
  {
   "cell_type": "code",
   "execution_count": null,
   "id": "2dcabf81",
   "metadata": {},
   "outputs": [],
   "source": [
    "# def unix_date(dates):\n",
    "# \treturn [dates['date_1'].timestamp(), dates['date_2'].timestamp()]"
   ]
  },
  {
   "cell_type": "code",
   "execution_count": null,
   "id": "87973cba",
   "metadata": {},
   "outputs": [],
   "source": [
    "# def ticker_url(token_id, from_to):\n",
    "# \tmy_url = f\"https://api.coingecko.com/api/v3/coins/{token_id}/market_chart/range?vs_currency=usd&from={from_to[0]}&to={from_to[1]}\"\n",
    "# \treturn my_url"
   ]
  },
  {
   "cell_type": "code",
   "execution_count": 98,
   "id": "3054497d",
   "metadata": {},
   "outputs": [],
   "source": [
    "# def get_to_csv(id_list, i):\n",
    "# \ttoken_id = id_list[i]\n",
    "# \turl = ticker_url(token_id,from_to) #custom method in this line--must change if changing method name\n",
    "# \ttoken_json = requests.get(url).json()\n",
    "# \tdf = pd.DataFrame.from_dict(token_json, orient='columns', dtype=None, columns=None)\n",
    "\t\n",
    "# \tdf_dates = make_datetime_index(df) #custom method in this line--must change if changing method name\n",
    "# \tdf.set_index(df_dates,inplace=True)\n",
    "# \tticker_path = 'Data/' + token_id + '.csv'\n",
    "# \tdf.to_csv(ticker_path)"
   ]
  },
  {
   "cell_type": "code",
   "execution_count": null,
   "id": "e590623d",
   "metadata": {},
   "outputs": [],
   "source": [
    "# def unix_dates(df):\n",
    "# \tunix_dates = []\n",
    "# \tfor i in range(len(df['prices'])):\n",
    "# \t\tnew_str = df['prices'][i].replace(\"[\", \"\").replace(\"]\",\"\")\n",
    "# \t\tnew_str = new_str.split(', ')[0]\n",
    "# \t\tdate = float(new_str)\n",
    "# \t\tunix_dates.append(date)\n",
    "# \treturn unix_dates\n",
    "\n",
    "# def make_datetimes(unix_dates):\n",
    "# \tdatetimes = []\n",
    "# \tfor x in unix_dates:\n",
    "# \t\tdatetimes.append(datetime.utcfromtimestamp(date/1000).strftime('%Y-%m-%d %H:%M:%S'))\n",
    "# \treturn datetimes"
   ]
  },
  {
   "cell_type": "code",
   "execution_count": null,
   "id": "81d24e2d",
   "metadata": {},
   "outputs": [],
   "source": [
    "# def filenames(id_list):\n",
    "# \tfor i in range(len(id_list)):\n",
    "# \t\tget_to_csv(id_list,i)"
   ]
  },
  {
   "cell_type": "code",
   "execution_count": null,
   "id": "c5a1a60e",
   "metadata": {},
   "outputs": [],
   "source": [
    "# dates = time_range()\n",
    "# from_to = unix_date(dates)"
   ]
  },
  {
   "cell_type": "code",
   "execution_count": null,
   "id": "fa9af9e1",
   "metadata": {},
   "outputs": [],
   "source": [
    "# dates"
   ]
  },
  {
   "cell_type": "code",
   "execution_count": null,
   "id": "0fa913b6",
   "metadata": {},
   "outputs": [],
   "source": [
    "# from_to"
   ]
  },
  {
   "cell_type": "code",
   "execution_count": null,
   "id": "87e34481",
   "metadata": {},
   "outputs": [],
   "source": [
    "id_list = [\n",
    "\t'maple',\n",
    "\t'bitcoin'\n",
    "]"
   ]
  },
  {
   "cell_type": "code",
   "execution_count": null,
   "id": "9c0fa46c",
   "metadata": {},
   "outputs": [],
   "source": [
    "# csv_paths = []\n",
    "# for item in id_list:\n",
    "# \tcsv_paths.append(\"Data/\" + item + \".csv\")\n",
    "# csv_paths"
   ]
  },
  {
   "cell_type": "code",
   "execution_count": null,
   "id": "09a38753",
   "metadata": {},
   "outputs": [],
   "source": [
    "\n",
    "# df = pd.read_csv(Path(\"Data/bitcoin.csv\"))\n",
    "# df"
   ]
  },
  {
   "cell_type": "code",
   "execution_count": null,
   "id": "8160dbb8",
   "metadata": {},
   "outputs": [],
   "source": [
    "# date_list = []"
   ]
  },
  {
   "cell_type": "code",
   "execution_count": null,
   "id": "d1b7729d",
   "metadata": {},
   "outputs": [],
   "source": [
    "# i = 0\n",
    "# row\n",
    "# value"
   ]
  },
  {
   "cell_type": "code",
   "execution_count": 185,
   "id": "a83ef6f4",
   "metadata": {},
   "outputs": [],
   "source": [
    "# for value in df['prices']:\n",
    "# \tnew_str = value.replace(\"[\", \"\").replace(\"]\",\"\")#.replace(\"00000\",\".\")\n",
    "# \tnew_str = new_str.split(', ')[0]\n",
    "# \tdate = float(new_str)\n",
    "# \tdate_list.append(date)\n",
    "\t\n",
    "# datetime_list = []\n",
    "# for date in date_list:\n",
    "# \tdatetime_list.append(datetime.utcfromtimestamp(date/1000).strftime('%Y-%m-%d %H:%M:%S'))\t"
   ]
  },
  {
   "cell_type": "code",
   "execution_count": null,
   "id": "4e854176",
   "metadata": {},
   "outputs": [],
   "source": [
    "# ts = date_list[0]/1000\n",
    "# datetime_list"
   ]
  },
  {
   "cell_type": "code",
   "execution_count": null,
   "id": "68f82279",
   "metadata": {},
   "outputs": [],
   "source": [
    "# print(datetime.utcfromtimestamp(date_list[0]/1000).strftime('%Y-%m-%d %H:%M:%S'))"
   ]
  },
  {
   "cell_type": "code",
   "execution_count": null,
   "id": "8f351aac",
   "metadata": {},
   "outputs": [],
   "source": [
    "# datetime_list = []\n",
    "# for date in date_list:\n",
    "# \tdatetime_list.append(datetime.utcfromtimestamp(date/1000).strftime('%Y-%m-%d %H:%M:%S'))\t"
   ]
  },
  {
   "cell_type": "code",
   "execution_count": null,
   "id": "84fe156c",
   "metadata": {},
   "outputs": [],
   "source": [
    "# datetime_list"
   ]
  },
  {
   "cell_type": "code",
   "execution_count": null,
   "id": "061b06e1",
   "metadata": {},
   "outputs": [],
   "source": [
    "# ts = int('1284101485')\n",
    "\n",
    "# if you encounter a \"year is out of range\" error the timestamp\n",
    "# may be in milliseconds, try `ts /= 1000` in that case\n",
    "# print(datetime.utcfromtimestamp(date_list[0]/1000).strftime('%Y-%m-%d %H:%M:%S'))"
   ]
  },
  {
   "cell_type": "code",
   "execution_count": null,
   "id": "01afd79c",
   "metadata": {},
   "outputs": [],
   "source": [
    "# dt3 = new_str.datetime.fromtimestamp(date_list[0]/1000)\n",
    "# dt3\n",
    "# date_time = datetime.datetime.fromtimestamp(epoch_time)"
   ]
  },
  {
   "cell_type": "code",
   "execution_count": null,
   "id": "644f42d6",
   "metadata": {},
   "outputs": [],
   "source": [
    "\n",
    "# text.replace(\"[\", \"\").replace(\"]\",\"\")"
   ]
  },
  {
   "cell_type": "code",
   "execution_count": null,
   "id": "57dd13de",
   "metadata": {},
   "outputs": [],
   "source": [
    "# df.insert(-1,dates)"
   ]
  },
  {
   "cell_type": "code",
   "execution_count": null,
   "id": "b2d8e4da",
   "metadata": {},
   "outputs": [],
   "source": [
    "# sliced_text = ', '\n",
    "# print(text[sliced_text])"
   ]
  },
  {
   "cell_type": "code",
   "execution_count": null,
   "id": "bbdd1ab3",
   "metadata": {},
   "outputs": [],
   "source": [
    "# # importing the datetime package.\n",
    "# import datetime.\n",
    "# # given epoch time.\n",
    "# epoch_time = 40246871.\n",
    "# # using the datetime. fromtimestamp() function.\n",
    "# date_time = datetime. datetime. fromtimestamp( epoch_time )"
   ]
  },
  {
   "cell_type": "code",
   "execution_count": null,
   "id": "f915ec7e",
   "metadata": {},
   "outputs": [],
   "source": [
    "# date_vals = pd.Series([\"1440643875\", \"1440644191\", \"1440645638\", \"1440998720\"])"
   ]
  }
 ],
 "metadata": {
  "kernelspec": {
   "display_name": "Python [conda env:smallcapcryptosenv] *",
   "language": "python",
   "name": "conda-env-smallcapcryptosenv-py"
  },
  "language_info": {
   "codemirror_mode": {
    "name": "ipython",
    "version": 3
   },
   "file_extension": ".py",
   "mimetype": "text/x-python",
   "name": "python",
   "nbconvert_exporter": "python",
   "pygments_lexer": "ipython3",
   "version": "3.7.11"
  }
 },
 "nbformat": 4,
 "nbformat_minor": 5
}
