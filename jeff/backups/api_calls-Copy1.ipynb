{
 "cells": [
  {
   "cell_type": "code",
   "execution_count": null,
   "id": "f4b41903",
   "metadata": {},
   "outputs": [],
   "source": [
    "# conda create --clone pyvizenv --name smallcapcryptosenv -y"
   ]
  },
  {
   "cell_type": "code",
   "execution_count": null,
   "id": "7ee8b849",
   "metadata": {},
   "outputs": [],
   "source": [
    "# conda activate smallcapcryptosenv"
   ]
  },
  {
   "cell_type": "code",
   "execution_count": null,
   "id": "3d79699c",
   "metadata": {},
   "outputs": [],
   "source": [
    "# !conda install -c anaconda seaborn -y"
   ]
  },
  {
   "cell_type": "code",
   "execution_count": null,
   "id": "67eb0c8a",
   "metadata": {},
   "outputs": [],
   "source": [
    "# !pip install pycoingecko"
   ]
  },
  {
   "cell_type": "code",
   "execution_count": 2,
   "id": "90b72988",
   "metadata": {},
   "outputs": [],
   "source": [
    "# Initial Imports\n",
    "import pandas as pd\n",
    "import os\n",
    "from pathlib import Path\n",
    "\n",
    "import requests\n",
    "# import numpy as np\n",
    "# from dotenv import load_dotenv\n",
    "\n",
    "# from MCForecastTools import MCSimulation\n",
    "# import datetime as dt\n",
    "# import seaborn\n",
    "# import matplotlib.pyplot as plt\n",
    "# import panel as pn\n",
    "# from panel.interact import interact\n",
    "# import plotly.express as px\n",
    "\n",
    "# from datetime import datetime\n",
    "\n",
    "# pn.extension(\"plotly\")\n",
    "# %matplotlib inline"
   ]
  },
  {
   "cell_type": "code",
   "execution_count": 3,
   "id": "89b3a2cb",
   "metadata": {},
   "outputs": [],
   "source": [
    "from pycoingecko import CoinGeckoAPI\n",
    "cg = CoinGeckoAPI()"
   ]
  },
  {
   "cell_type": "code",
   "execution_count": 11,
   "id": "00133a4a",
   "metadata": {},
   "outputs": [],
   "source": [
    "def time_range(delta=365):\n",
    "\ttimestamp_2 = pd.Timestamp(\"today\",unit=\"s\") # current date as timestamp\n",
    "\ttimestamp_1 = timestamp_2 - pd.to_timedelta(delta, unit=\"Days\")\n",
    "\t\n",
    "\tunix_1 = timestamp_1.timestamp()\n",
    "\tunix_2 = timestamp_2.timestamp()\n",
    "\t\n",
    "\tdates = {\n",
    "\t\t\"date_1\": [timestamp_1,unix_1],\n",
    "\t\t\"date_2\": [timestamp_2,unix_2]\n",
    "\t}\n",
    "\treturn dates"
   ]
  },
  {
   "cell_type": "code",
   "execution_count": 12,
   "id": "fe7702b3",
   "metadata": {},
   "outputs": [
    {
     "data": {
      "text/plain": [
       "{'date_1': [Timestamp('2021-04-05 13:19:46.403932'), 1617628786.403932],\n",
       " 'date_2': [Timestamp('2022-04-05 13:19:46.403932'), 1649164786.403932]}"
      ]
     },
     "execution_count": 12,
     "metadata": {},
     "output_type": "execute_result"
    }
   ],
   "source": [
    "dates = time_range()\n",
    "dates"
   ]
  },
  {
   "cell_type": "code",
   "execution_count": null,
   "id": "018eb9ea",
   "metadata": {},
   "outputs": [],
   "source": [
    "# my_timestamp = pd.Timestamp(\"today\",unit=\"s\")\n",
    "# my_timestamp.Timestamp(\"\")\n",
    "\n",
    "my_str = '[1619740800000, 23.327418267811513]'\n",
    "my_str\n"
   ]
  },
  {
   "cell_type": "code",
   "execution_count": 43,
   "id": "d5df833f",
   "metadata": {},
   "outputs": [],
   "source": [
    "df = pd.read_csv(Path(\"../Data/bitcoin.csv\"))\n",
    "df.drop(df.columns[0],axis=1,inplace=True)"
   ]
  },
  {
   "cell_type": "code",
   "execution_count": 44,
   "id": "fd8991fe",
   "metadata": {},
   "outputs": [
    {
     "data": {
      "text/html": [
       "<div>\n",
       "<style scoped>\n",
       "    .dataframe tbody tr th:only-of-type {\n",
       "        vertical-align: middle;\n",
       "    }\n",
       "\n",
       "    .dataframe tbody tr th {\n",
       "        vertical-align: top;\n",
       "    }\n",
       "\n",
       "    .dataframe thead th {\n",
       "        text-align: right;\n",
       "    }\n",
       "</style>\n",
       "<table border=\"1\" class=\"dataframe\">\n",
       "  <thead>\n",
       "    <tr style=\"text-align: right;\">\n",
       "      <th></th>\n",
       "      <th>prices</th>\n",
       "      <th>market_caps</th>\n",
       "      <th>total_volumes</th>\n",
       "    </tr>\n",
       "  </thead>\n",
       "  <tbody>\n",
       "    <tr>\n",
       "      <th>0</th>\n",
       "      <td>[1617667200000, 58706.81559311396]</td>\n",
       "      <td>[1617667200000, 1096202611389.9541]</td>\n",
       "      <td>[1617667200000, 54670173277.08731]</td>\n",
       "    </tr>\n",
       "    <tr>\n",
       "      <th>1</th>\n",
       "      <td>[1617753600000, 58062.17872433649]</td>\n",
       "      <td>[1617753600000, 1084341670320.8142]</td>\n",
       "      <td>[1617753600000, 61497704158.13829]</td>\n",
       "    </tr>\n",
       "    <tr>\n",
       "      <th>2</th>\n",
       "      <td>[1617840000000, 56134.41738866435]</td>\n",
       "      <td>[1617840000000, 1050759681844.6099]</td>\n",
       "      <td>[1617840000000, 67617613532.43307]</td>\n",
       "    </tr>\n",
       "    <tr>\n",
       "      <th>3</th>\n",
       "      <td>[1617926400000, 58065.644024815316]</td>\n",
       "      <td>[1617926400000, 1083362883828.1199]</td>\n",
       "      <td>[1617926400000, 48714359354.07226]</td>\n",
       "    </tr>\n",
       "    <tr>\n",
       "      <th>4</th>\n",
       "      <td>[1618012800000, 58152.993262141834]</td>\n",
       "      <td>[1618012800000, 1085794662404.731]</td>\n",
       "      <td>[1618012800000, 45880879041.76103]</td>\n",
       "    </tr>\n",
       "    <tr>\n",
       "      <th>...</th>\n",
       "      <td>...</td>\n",
       "      <td>...</td>\n",
       "      <td>...</td>\n",
       "    </tr>\n",
       "    <tr>\n",
       "      <th>360</th>\n",
       "      <td>[1648771200000, 45528.40715313835]</td>\n",
       "      <td>[1648771200000, 865010142444.9791]</td>\n",
       "      <td>[1648771200000, 27736469645.537262]</td>\n",
       "    </tr>\n",
       "    <tr>\n",
       "      <th>361</th>\n",
       "      <td>[1648857600000, 46270.20070585378]</td>\n",
       "      <td>[1648857600000, 879144224206.3806]</td>\n",
       "      <td>[1648857600000, 32948605532.135277]</td>\n",
       "    </tr>\n",
       "    <tr>\n",
       "      <th>362</th>\n",
       "      <td>[1648944000000, 45842.14476317382]</td>\n",
       "      <td>[1648944000000, 871050305858.7916]</td>\n",
       "      <td>[1648944000000, 24803837259.76474]</td>\n",
       "    </tr>\n",
       "    <tr>\n",
       "      <th>363</th>\n",
       "      <td>[1649030400000, 46434.562982661664]</td>\n",
       "      <td>[1649030400000, 882346640419.069]</td>\n",
       "      <td>[1649030400000, 21510196790.30345]</td>\n",
       "    </tr>\n",
       "    <tr>\n",
       "      <th>364</th>\n",
       "      <td>[1649116800000, 46622.63571309101]</td>\n",
       "      <td>[1649116800000, 885584977681.2438]</td>\n",
       "      <td>[1649116800000, 28019309650.72574]</td>\n",
       "    </tr>\n",
       "  </tbody>\n",
       "</table>\n",
       "<p>365 rows × 3 columns</p>\n",
       "</div>"
      ],
      "text/plain": [
       "                                  prices                          market_caps  \\\n",
       "0     [1617667200000, 58706.81559311396]  [1617667200000, 1096202611389.9541]   \n",
       "1     [1617753600000, 58062.17872433649]  [1617753600000, 1084341670320.8142]   \n",
       "2     [1617840000000, 56134.41738866435]  [1617840000000, 1050759681844.6099]   \n",
       "3    [1617926400000, 58065.644024815316]  [1617926400000, 1083362883828.1199]   \n",
       "4    [1618012800000, 58152.993262141834]   [1618012800000, 1085794662404.731]   \n",
       "..                                   ...                                  ...   \n",
       "360   [1648771200000, 45528.40715313835]   [1648771200000, 865010142444.9791]   \n",
       "361   [1648857600000, 46270.20070585378]   [1648857600000, 879144224206.3806]   \n",
       "362   [1648944000000, 45842.14476317382]   [1648944000000, 871050305858.7916]   \n",
       "363  [1649030400000, 46434.562982661664]    [1649030400000, 882346640419.069]   \n",
       "364   [1649116800000, 46622.63571309101]   [1649116800000, 885584977681.2438]   \n",
       "\n",
       "                           total_volumes  \n",
       "0     [1617667200000, 54670173277.08731]  \n",
       "1     [1617753600000, 61497704158.13829]  \n",
       "2     [1617840000000, 67617613532.43307]  \n",
       "3     [1617926400000, 48714359354.07226]  \n",
       "4     [1618012800000, 45880879041.76103]  \n",
       "..                                   ...  \n",
       "360  [1648771200000, 27736469645.537262]  \n",
       "361  [1648857600000, 32948605532.135277]  \n",
       "362   [1648944000000, 24803837259.76474]  \n",
       "363   [1649030400000, 21510196790.30345]  \n",
       "364   [1649116800000, 28019309650.72574]  \n",
       "\n",
       "[365 rows x 3 columns]"
      ]
     },
     "execution_count": 44,
     "metadata": {},
     "output_type": "execute_result"
    }
   ],
   "source": [
    "# df = df_raw[['prices','market_caps','total_volumes']]\n",
    "df\n"
   ]
  },
  {
   "cell_type": "code",
   "execution_count": 39,
   "id": "330b7252",
   "metadata": {},
   "outputs": [
    {
     "data": {
      "text/html": [
       "<div>\n",
       "<style scoped>\n",
       "    .dataframe tbody tr th:only-of-type {\n",
       "        vertical-align: middle;\n",
       "    }\n",
       "\n",
       "    .dataframe tbody tr th {\n",
       "        vertical-align: top;\n",
       "    }\n",
       "\n",
       "    .dataframe thead th {\n",
       "        text-align: right;\n",
       "    }\n",
       "</style>\n",
       "<table border=\"1\" class=\"dataframe\">\n",
       "  <thead>\n",
       "    <tr style=\"text-align: right;\">\n",
       "      <th></th>\n",
       "      <th>market_caps</th>\n",
       "      <th>total_volumes</th>\n",
       "    </tr>\n",
       "  </thead>\n",
       "  <tbody>\n",
       "    <tr>\n",
       "      <th>0</th>\n",
       "      <td>[1617667200000, 1096202611389.9541]</td>\n",
       "      <td>[1617667200000, 54670173277.08731]</td>\n",
       "    </tr>\n",
       "    <tr>\n",
       "      <th>1</th>\n",
       "      <td>[1617753600000, 1084341670320.8142]</td>\n",
       "      <td>[1617753600000, 61497704158.13829]</td>\n",
       "    </tr>\n",
       "    <tr>\n",
       "      <th>2</th>\n",
       "      <td>[1617840000000, 1050759681844.6099]</td>\n",
       "      <td>[1617840000000, 67617613532.43307]</td>\n",
       "    </tr>\n",
       "    <tr>\n",
       "      <th>3</th>\n",
       "      <td>[1617926400000, 1083362883828.1199]</td>\n",
       "      <td>[1617926400000, 48714359354.07226]</td>\n",
       "    </tr>\n",
       "    <tr>\n",
       "      <th>4</th>\n",
       "      <td>[1618012800000, 1085794662404.731]</td>\n",
       "      <td>[1618012800000, 45880879041.76103]</td>\n",
       "    </tr>\n",
       "    <tr>\n",
       "      <th>...</th>\n",
       "      <td>...</td>\n",
       "      <td>...</td>\n",
       "    </tr>\n",
       "    <tr>\n",
       "      <th>360</th>\n",
       "      <td>[1648771200000, 865010142444.9791]</td>\n",
       "      <td>[1648771200000, 27736469645.537262]</td>\n",
       "    </tr>\n",
       "    <tr>\n",
       "      <th>361</th>\n",
       "      <td>[1648857600000, 879144224206.3806]</td>\n",
       "      <td>[1648857600000, 32948605532.135277]</td>\n",
       "    </tr>\n",
       "    <tr>\n",
       "      <th>362</th>\n",
       "      <td>[1648944000000, 871050305858.7916]</td>\n",
       "      <td>[1648944000000, 24803837259.76474]</td>\n",
       "    </tr>\n",
       "    <tr>\n",
       "      <th>363</th>\n",
       "      <td>[1649030400000, 882346640419.069]</td>\n",
       "      <td>[1649030400000, 21510196790.30345]</td>\n",
       "    </tr>\n",
       "    <tr>\n",
       "      <th>364</th>\n",
       "      <td>[1649116800000, 885584977681.2438]</td>\n",
       "      <td>[1649116800000, 28019309650.72574]</td>\n",
       "    </tr>\n",
       "  </tbody>\n",
       "</table>\n",
       "<p>365 rows × 2 columns</p>\n",
       "</div>"
      ],
      "text/plain": [
       "                             market_caps                        total_volumes\n",
       "0    [1617667200000, 1096202611389.9541]   [1617667200000, 54670173277.08731]\n",
       "1    [1617753600000, 1084341670320.8142]   [1617753600000, 61497704158.13829]\n",
       "2    [1617840000000, 1050759681844.6099]   [1617840000000, 67617613532.43307]\n",
       "3    [1617926400000, 1083362883828.1199]   [1617926400000, 48714359354.07226]\n",
       "4     [1618012800000, 1085794662404.731]   [1618012800000, 45880879041.76103]\n",
       "..                                   ...                                  ...\n",
       "360   [1648771200000, 865010142444.9791]  [1648771200000, 27736469645.537262]\n",
       "361   [1648857600000, 879144224206.3806]  [1648857600000, 32948605532.135277]\n",
       "362   [1648944000000, 871050305858.7916]   [1648944000000, 24803837259.76474]\n",
       "363    [1649030400000, 882346640419.069]   [1649030400000, 21510196790.30345]\n",
       "364   [1649116800000, 885584977681.2438]   [1649116800000, 28019309650.72574]\n",
       "\n",
       "[365 rows x 2 columns]"
      ]
     },
     "execution_count": 39,
     "metadata": {},
     "output_type": "execute_result"
    }
   ],
   "source": [
    "df_raw.drop(df_raw.columns[0],inplace=True,axis=1)\n",
    "df_raw"
   ]
  },
  {
   "cell_type": "code",
   "execution_count": 17,
   "id": "88b8cea4",
   "metadata": {},
   "outputs": [
    {
     "data": {
      "text/plain": [
       "pandas.core.series.Series"
      ]
     },
     "execution_count": 17,
     "metadata": {},
     "output_type": "execute_result"
    }
   ],
   "source": [
    "type(df['prices'])"
   ]
  },
  {
   "cell_type": "code",
   "execution_count": null,
   "id": "c1b5f61e",
   "metadata": {},
   "outputs": [],
   "source": []
  },
  {
   "cell_type": "code",
   "execution_count": null,
   "id": "b7baa373",
   "metadata": {},
   "outputs": [],
   "source": []
  },
  {
   "cell_type": "code",
   "execution_count": null,
   "id": "12de7876",
   "metadata": {},
   "outputs": [],
   "source": [
    "# for value in df['prices']:\n",
    "# \tnew_str = value.replace(\"[\", \"\").replace(\"]\",\"\")#.replace(\"00000\",\".\")\n",
    "# \tnew_str = new_str.split(', ')[0]\n",
    "# \tdate = float(new_str)\n",
    "# \tdate_list.append(date)\n",
    "\t\n",
    "# datetime_list = []\n",
    "# for date in date_list:\n",
    "# \tdatetime_list.append(datetime.utcfromtimestamp(date/1000).strftime('%Y-%m-%d %H:%M:%S'))\t"
   ]
  },
  {
   "cell_type": "code",
   "execution_count": null,
   "id": "e0b484ef",
   "metadata": {},
   "outputs": [],
   "source": []
  },
  {
   "cell_type": "code",
   "execution_count": null,
   "id": "be3d1801",
   "metadata": {},
   "outputs": [],
   "source": [
    "# def time_range(delta=365):\n",
    "# \ttimestamp_2 = pd.Timestamp(\"today\", tz=\"America/Chicago\") # current date as timestamp\n",
    "# \ttimestamp_1 = date_2 - pd.to_timedelta(delta, unit=\"Days\")\n",
    "\t\n",
    "# \tdates = {\n",
    "# \t\t\"date_1\": timestamp_1,\n",
    "# \t\t\"date_2\": timestamp_2}\n",
    "# \treturn dates"
   ]
  },
  {
   "cell_type": "code",
   "execution_count": null,
   "id": "052d368d",
   "metadata": {},
   "outputs": [],
   "source": [
    "# def unix_date(dates):\n",
    "# \treturn [dates['date_1'].timestamp(), dates['date_2'].timestamp()]\n",
    "\n"
   ]
  },
  {
   "cell_type": "code",
   "execution_count": null,
   "id": "45d5b8b6",
   "metadata": {},
   "outputs": [],
   "source": [
    "# def ticker_url(token_id, from_to):\n",
    "# \tmy_url = f\"https://api.coingecko.com/api/v3/coins/{token_id}/market_chart/range?vs_currency=usd&from={from_to[0]}&to={from_to[1]}\"\n",
    "# \treturn my_url"
   ]
  },
  {
   "cell_type": "code",
   "execution_count": null,
   "id": "0d579f05",
   "metadata": {},
   "outputs": [],
   "source": [
    "# def get_to_csv(id_list, i):\n",
    "# \ttoken_id = id_list[i]\n",
    "# \turl = ticker_url(token_id,from_to) #custom method in this line--must change if changing method name\n",
    "# \ttoken_json = requests.get(url).json()\n",
    "# \tdf = pd.DataFrame.from_dict(token_json, orient='columns', dtype=None, columns=None)\n",
    "\t\n",
    "# \tdf_dates = make_datetime_index(df) #custom method in this line--must change if changing method name\n",
    "# \tdf.set_index(df_dates,inplace=True)\n",
    "# \tticker_path = 'Data/' + token_id + '.csv'\n",
    "# \tdf.to_csv(ticker_path)"
   ]
  },
  {
   "cell_type": "code",
   "execution_count": null,
   "id": "e3b13b15",
   "metadata": {},
   "outputs": [],
   "source": [
    "# def unix_dates(df):\n",
    "# \tunix_dates = []\n",
    "# \tfor i in range(len(df['prices'])):\n",
    "# \t\tnew_str = df['prices'][i].replace(\"[\", \"\").replace(\"]\",\"\")\n",
    "# \t\tnew_str = new_str.split(', ')[0]\n",
    "# \t\tdate = float(new_str)\n",
    "# \t\tunix_dates.append(date)\n",
    "# \treturn unix_dates\n",
    "\n",
    "# def make_datetimes(unix_dates):\n",
    "# \tdatetimes = []\n",
    "# \tfor x in unix_dates:\n",
    "# \t\tdatetimes.append(datetime.utcfromtimestamp(date/1000).strftime('%Y-%m-%d %H:%M:%S'))\n",
    "# \treturn datetimes"
   ]
  },
  {
   "cell_type": "code",
   "execution_count": null,
   "id": "c741b6b8",
   "metadata": {},
   "outputs": [],
   "source": [
    "# def filenames(id_list):\n",
    "# \tfor i in range(len(id_list)):\n",
    "# \t\tget_to_csv(id_list,i)"
   ]
  },
  {
   "cell_type": "code",
   "execution_count": null,
   "id": "adc8f22c",
   "metadata": {},
   "outputs": [],
   "source": [
    "# dates = time_range()\n",
    "# from_to = unix_date(dates)"
   ]
  },
  {
   "cell_type": "code",
   "execution_count": null,
   "id": "5e296e9a",
   "metadata": {},
   "outputs": [],
   "source": [
    "# dates"
   ]
  },
  {
   "cell_type": "code",
   "execution_count": null,
   "id": "4f1c352e",
   "metadata": {},
   "outputs": [],
   "source": [
    "# from_to"
   ]
  },
  {
   "cell_type": "code",
   "execution_count": null,
   "id": "33dda990",
   "metadata": {},
   "outputs": [],
   "source": [
    "# id_list = [\n",
    "# \t'maple',\n",
    "# \t'bitcoin'\n",
    "# ]"
   ]
  },
  {
   "cell_type": "code",
   "execution_count": null,
   "id": "dc3f7f0b",
   "metadata": {},
   "outputs": [],
   "source": [
    "# csv_paths = []\n",
    "# for item in id_list:\n",
    "# \tcsv_paths.append(\"Data/\" + item + \".csv\")\n",
    "# csv_paths"
   ]
  },
  {
   "cell_type": "code",
   "execution_count": null,
   "id": "4e16a560",
   "metadata": {},
   "outputs": [],
   "source": [
    "\n",
    "# df = pd.read_csv(Path(\"Data/bitcoin.csv\"))\n",
    "# df"
   ]
  },
  {
   "cell_type": "code",
   "execution_count": null,
   "id": "845bf3cc",
   "metadata": {},
   "outputs": [],
   "source": [
    "# date_list = []"
   ]
  },
  {
   "cell_type": "code",
   "execution_count": null,
   "id": "69591524",
   "metadata": {},
   "outputs": [],
   "source": [
    "# i = 0\n",
    "# row\n",
    "# value"
   ]
  },
  {
   "cell_type": "code",
   "execution_count": null,
   "id": "19554734",
   "metadata": {},
   "outputs": [],
   "source": [
    "# for value in df['prices']:\n",
    "# \tnew_str = value.replace(\"[\", \"\").replace(\"]\",\"\")#.replace(\"00000\",\".\")\n",
    "# \tnew_str = new_str.split(', ')[0]\n",
    "# \tdate = float(new_str)\n",
    "# \tdate_list.append(date)\n",
    "\t\n",
    "# datetime_list = []\n",
    "# for date in date_list:\n",
    "# \tdatetime_list.append(datetime.utcfromtimestamp(date/1000).strftime('%Y-%m-%d %H:%M:%S'))\t"
   ]
  },
  {
   "cell_type": "code",
   "execution_count": null,
   "id": "f33f7368",
   "metadata": {},
   "outputs": [],
   "source": [
    "# ts = date_list[0]/1000\n",
    "datetime_list"
   ]
  },
  {
   "cell_type": "code",
   "execution_count": null,
   "id": "a1f7a09a",
   "metadata": {},
   "outputs": [],
   "source": [
    "# print(datetime.utcfromtimestamp(date_list[0]/1000).strftime('%Y-%m-%d %H:%M:%S'))"
   ]
  },
  {
   "cell_type": "code",
   "execution_count": null,
   "id": "0527da88",
   "metadata": {},
   "outputs": [],
   "source": [
    "# datetime_list = []\n",
    "# for date in date_list:\n",
    "# \tdatetime_list.append(datetime.utcfromtimestamp(date/1000).strftime('%Y-%m-%d %H:%M:%S'))\t"
   ]
  },
  {
   "cell_type": "code",
   "execution_count": null,
   "id": "54f0eb1c",
   "metadata": {},
   "outputs": [],
   "source": [
    "# datetime_list"
   ]
  },
  {
   "cell_type": "code",
   "execution_count": null,
   "id": "4bdc2831",
   "metadata": {},
   "outputs": [],
   "source": [
    "# ts = int('1284101485')\n",
    "\n",
    "# if you encounter a \"year is out of range\" error the timestamp\n",
    "# may be in milliseconds, try `ts /= 1000` in that case\n",
    "# print(datetime.utcfromtimestamp(date_list[0]/1000).strftime('%Y-%m-%d %H:%M:%S'))"
   ]
  },
  {
   "cell_type": "code",
   "execution_count": null,
   "id": "0f2fddfb",
   "metadata": {},
   "outputs": [],
   "source": [
    "# dt3 = new_str.datetime.fromtimestamp(date_list[0]/1000)\n",
    "# dt3\n",
    "# date_time = datetime.datetime.fromtimestamp(epoch_time)"
   ]
  },
  {
   "cell_type": "code",
   "execution_count": null,
   "id": "c10f765c",
   "metadata": {},
   "outputs": [],
   "source": [
    "\n",
    "# text.replace(\"[\", \"\").replace(\"]\",\"\")"
   ]
  },
  {
   "cell_type": "code",
   "execution_count": null,
   "id": "6951303a",
   "metadata": {},
   "outputs": [],
   "source": [
    "# df.insert(-1,dates)"
   ]
  },
  {
   "cell_type": "code",
   "execution_count": null,
   "id": "cf81a140",
   "metadata": {},
   "outputs": [],
   "source": [
    "# sliced_text = ', '\n",
    "# print(text[sliced_text])"
   ]
  },
  {
   "cell_type": "code",
   "execution_count": null,
   "id": "49226b84",
   "metadata": {},
   "outputs": [],
   "source": [
    "# # importing the datetime package.\n",
    "# import datetime.\n",
    "# # given epoch time.\n",
    "# epoch_time = 40246871.\n",
    "# # using the datetime. fromtimestamp() function.\n",
    "# date_time = datetime. datetime. fromtimestamp( epoch_time )"
   ]
  },
  {
   "cell_type": "code",
   "execution_count": null,
   "id": "885d390b",
   "metadata": {},
   "outputs": [],
   "source": [
    "# date_vals = pd.Series([\"1440643875\", \"1440644191\", \"1440645638\", \"1440998720\"])"
   ]
  }
 ],
 "metadata": {
  "kernelspec": {
   "display_name": "Python [conda env:smallcapcryptosenv] *",
   "language": "python",
   "name": "conda-env-smallcapcryptosenv-py"
  },
  "language_info": {
   "codemirror_mode": {
    "name": "ipython",
    "version": 3
   },
   "file_extension": ".py",
   "mimetype": "text/x-python",
   "name": "python",
   "nbconvert_exporter": "python",
   "pygments_lexer": "ipython3",
   "version": "3.7.11"
  }
 },
 "nbformat": 4,
 "nbformat_minor": 5
}
