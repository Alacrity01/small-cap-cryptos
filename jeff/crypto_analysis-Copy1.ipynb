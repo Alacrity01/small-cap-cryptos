{
 "cells": [
  {
   "cell_type": "code",
   "execution_count": 1,
   "id": "a1e50b84",
   "metadata": {},
   "outputs": [],
   "source": [
    "# conda create --clone pyvizenv --name smallcapcryptosenv -y"
   ]
  },
  {
   "cell_type": "code",
   "execution_count": 2,
   "id": "41481317",
   "metadata": {},
   "outputs": [],
   "source": [
    "# conda activate smallcapcryptosenv"
   ]
  },
  {
   "cell_type": "code",
   "execution_count": 3,
   "id": "1f418036",
   "metadata": {},
   "outputs": [],
   "source": [
    "# !conda install -c anaconda seaborn -y"
   ]
  },
  {
   "cell_type": "code",
   "execution_count": 4,
   "id": "cabd6ad6",
   "metadata": {},
   "outputs": [],
   "source": [
    "# !pip install pycoingecko"
   ]
  },
  {
   "cell_type": "code",
   "execution_count": null,
   "id": "d10ae563",
   "metadata": {},
   "outputs": [],
   "source": [
    "# Initial Imports\n",
    "import pandas as pd\n",
    "import os\n",
    "import requests\n",
    "import numpy as np\n",
    "from dotenv import load_dotenv\n",
    "\n",
    "from MCForecastTools import MCSimulation\n",
    "import datetime as dt\n",
    "import seaborn\n",
    "import matplotlib.pyplot as plt\n",
    "import panel as pn\n",
    "from panel.interact import interact\n",
    "import plotly.express as px\n",
    "\n",
    "pn.extension(\"plotly\")\n",
    "%matplotlib inline"
   ]
  },
  {
   "cell_type": "code",
   "execution_count": null,
   "id": "00bf0c3c",
   "metadata": {},
   "outputs": [],
   "source": [
    "from pycoingecko import CoinGeckoAPI\n",
    "cg = CoinGeckoAPI()"
   ]
  },
  {
   "cell_type": "code",
   "execution_count": null,
   "id": "7474c632",
   "metadata": {},
   "outputs": [],
   "source": [
    "def time_range(delta=365):\n",
    "\tdate_2 = pd.Timestamp(\"today\", tz=\"America/Chicago\") # current date as timestamp\n",
    "\tdate_1 = date_2 - pd.to_timedelta(delta, unit=\"Days\")\n",
    "\t\n",
    "\tdates = {\n",
    "\t\t\"date_1\": date_1,\n",
    "\t\t\"date_2\": date_2}\n",
    "\treturn dates\n",
    "\t\n",
    "dates = time_range()"
   ]
  },
  {
   "cell_type": "code",
   "execution_count": null,
   "id": "ea696d4a",
   "metadata": {},
   "outputs": [],
   "source": [
    "def unix_date(dates):\n",
    "\treturn [dates['date_1'].timestamp(), dates['date_2'].timestamp()]"
   ]
  },
  {
   "cell_type": "code",
   "execution_count": null,
   "id": "711e7c01",
   "metadata": {},
   "outputs": [],
   "source": [
    "dates = time_range()\n",
    "dates"
   ]
  },
  {
   "cell_type": "code",
   "execution_count": null,
   "id": "ad079893",
   "metadata": {},
   "outputs": [],
   "source": [
    "from_to = unix_date(dates)\n",
    "from_to"
   ]
  },
  {
   "cell_type": "code",
   "execution_count": null,
   "id": "8086d858",
   "metadata": {},
   "outputs": [],
   "source": []
  },
  {
   "cell_type": "code",
   "execution_count": null,
   "id": "51d46bfb",
   "metadata": {},
   "outputs": [],
   "source": []
  },
  {
   "cell_type": "code",
   "execution_count": null,
   "id": "e3f37e09",
   "metadata": {},
   "outputs": [],
   "source": []
  },
  {
   "cell_type": "code",
   "execution_count": null,
   "id": "0e69514f",
   "metadata": {},
   "outputs": [],
   "source": []
  },
  {
   "cell_type": "code",
   "execution_count": null,
   "id": "74a27874",
   "metadata": {},
   "outputs": [],
   "source": []
  },
  {
   "cell_type": "code",
   "execution_count": null,
   "id": "5e66086c",
   "metadata": {},
   "outputs": [],
   "source": [
    "# unix_date(dates)"
   ]
  },
  {
   "cell_type": "code",
   "execution_count": null,
   "id": "946d5d69",
   "metadata": {},
   "outputs": [],
   "source": [
    "# dates = time_range()\n",
    "# d1_unix = pd.to_datetime(dates[\"date_1\"])#.timestamp()#.map(pd.Timestamp.timestamp)\n",
    "# print(d1_unix.timestamp())\n",
    "# dates[date_1.timestamp()]"
   ]
  },
  {
   "cell_type": "code",
   "execution_count": null,
   "id": "0a6a70d8",
   "metadata": {},
   "outputs": [],
   "source": [
    "maple = requests.get('https://api.coingecko.com/api/v3/coins/maple/market_chart/range?vs_currency=usd&from=1617382350.549834&to=1648918350.549834').json()"
   ]
  },
  {
   "cell_type": "code",
   "execution_count": null,
   "id": "3842cdeb",
   "metadata": {},
   "outputs": [],
   "source": [
    "# maple params list\n",
    "p_list = {\n",
    "\t'ticker':'maple',\n",
    "\t'request':'market_chart/range',\n",
    "\t'currency':'usd',\n",
    "\t'date_1':1617382350.549834,\n",
    "\t'date_2':1648918350.549834,\n",
    "}"
   ]
  },
  {
   "cell_type": "code",
   "execution_count": null,
   "id": "c3fbd38d",
   "metadata": {},
   "outputs": [],
   "source": [
    "def make_url(p_list):\n",
    "\tmy_url = f\"https://api.coingecko.com/api/v3/coins/{p_list['ticker']}/{p_list['request']}?vs_currency={p_list['currency']}&from={p_list['date_1']}&to={p_list['date_2']}\"\n",
    "\treturn my_url"
   ]
  },
  {
   "cell_type": "code",
   "execution_count": null,
   "id": "a1d51ff0",
   "metadata": {},
   "outputs": [],
   "source": [
    "maple_url = make_url(p_list)\n",
    "maple_url"
   ]
  },
  {
   "cell_type": "code",
   "execution_count": null,
   "id": "c7b9c2e9",
   "metadata": {},
   "outputs": [],
   "source": [
    "maple_json = requests.get(maple_url).json()"
   ]
  },
  {
   "cell_type": "code",
   "execution_count": null,
   "id": "615fab09",
   "metadata": {},
   "outputs": [],
   "source": [
    "maple_df = pd.DataFrame.from_dict(maple_json, orient='columns', dtype=None, columns=None)\n",
    "maple_df"
   ]
  },
  {
   "cell_type": "code",
   "execution_count": null,
   "id": "67d6825b",
   "metadata": {},
   "outputs": [],
   "source": [
    "# bitcoin params list\n",
    "p_list = {\n",
    "\t'ticker':'bitcoin',\n",
    "\t'request':'market_chart/range',\n",
    "\t'currency':'usd',\n",
    "\t'date_1':1617382350.549834,\n",
    "\t'date_2':1648918350.549834,\n",
    "}"
   ]
  },
  {
   "cell_type": "code",
   "execution_count": null,
   "id": "a6890b00",
   "metadata": {},
   "outputs": [],
   "source": [
    "bitcoin_url = make_url(p_list)\n",
    "bitcoin_json = requests.get(bitcoin_url).json()\n",
    "bitcoin_df = pd.DataFrame.from_dict(bitcoin_json, orient='columns', dtype=None, columns=None)"
   ]
  },
  {
   "cell_type": "code",
   "execution_count": null,
   "id": "6962a8e2",
   "metadata": {},
   "outputs": [],
   "source": [
    "bitcoin_df"
   ]
  },
  {
   "cell_type": "code",
   "execution_count": null,
   "id": "bd85f445",
   "metadata": {},
   "outputs": [],
   "source": []
  },
  {
   "cell_type": "code",
   "execution_count": null,
   "id": "cf6d9d1f",
   "metadata": {},
   "outputs": [],
   "source": [
    "# pip install pycoingecko"
   ]
  },
  {
   "cell_type": "code",
   "execution_count": null,
   "id": "23875590",
   "metadata": {},
   "outputs": [],
   "source": [
    "# print(time_range())"
   ]
  },
  {
   "cell_type": "code",
   "execution_count": null,
   "id": "4291b606",
   "metadata": {},
   "outputs": [],
   "source": [
    "# def get_dates(delta=1000, time_unit='day'):\n",
    "#     current_date = pd.Timestamp(\"today\", tz=\"America/Chicago\")\n",
    "#     start_date = current_date - pd.to_timedelta(delta, unit=time_unit)\n",
    "#     start_date_str = f\"{start_date.year}-{start_date.month:02}-{start_date.day:02}\"\n",
    "#     end_date_str = f\"{current_date.year}-{current_date.month:02}-{current_date.day:02}\"\n",
    "    \n",
    "#     dates = {\n",
    "#         # 'current_date': current_date,\n",
    "#         'start_date_str': start_date_str,\n",
    "#         'end_date_str': end_date_str\n",
    "#     }\n",
    "#     return dates"
   ]
  }
 ],
 "metadata": {
  "kernelspec": {
   "display_name": "Python [conda env:smallcapcryptosenv] *",
   "language": "python",
   "name": "conda-env-smallcapcryptosenv-py"
  },
  "language_info": {
   "codemirror_mode": {
    "name": "ipython",
    "version": 3
   },
   "file_extension": ".py",
   "mimetype": "text/x-python",
   "name": "python",
   "nbconvert_exporter": "python",
   "pygments_lexer": "ipython3",
   "version": "3.7.11"
  }
 },
 "nbformat": 4,
 "nbformat_minor": 5
}
